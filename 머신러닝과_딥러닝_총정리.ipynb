{
  "nbformat": 4,
  "nbformat_minor": 0,
  "metadata": {
    "colab": {
      "provenance": [],
      "toc_visible": true,
      "include_colab_link": true
    },
    "kernelspec": {
      "name": "python3",
      "display_name": "Python 3"
    },
    "language_info": {
      "name": "python"
    }
  },
  "cells": [
    {
      "cell_type": "markdown",
      "metadata": {
        "id": "view-in-github",
        "colab_type": "text"
      },
      "source": [
        "<a href=\"https://colab.research.google.com/github/ju-ing/temp_ml_study/blob/main/%EB%A8%B8%EC%8B%A0%EB%9F%AC%EB%8B%9D%EA%B3%BC_%EB%94%A5%EB%9F%AC%EB%8B%9D_%EC%B4%9D%EC%A0%95%EB%A6%AC.ipynb\" target=\"_parent\"><img src=\"https://colab.research.google.com/assets/colab-badge.svg\" alt=\"Open In Colab\"/></a>"
      ]
    },
    {
      "cell_type": "markdown",
      "source": [
        "#Credit Card Fraud Detection"
      ],
      "metadata": {
        "id": "USjWBZyeinNh"
      }
    },
    {
      "cell_type": "markdown",
      "source": [
        "## Load Data\n"
      ],
      "metadata": {
        "id": "kQyNERSvav11"
      }
    },
    {
      "cell_type": "code",
      "source": [
        "from google.colab import drive\n",
        "drive.mount('/content/drive')"
      ],
      "metadata": {
        "colab": {
          "base_uri": "https://localhost:8080/"
        },
        "id": "02va0S0bWk6K",
        "outputId": "43716d25-9295-4be5-820c-44e34cf17f30"
      },
      "execution_count": 2,
      "outputs": [
        {
          "output_type": "stream",
          "name": "stdout",
          "text": [
            "Mounted at /content/drive\n"
          ]
        }
      ]
    },
    {
      "cell_type": "code",
      "execution_count": 3,
      "metadata": {
        "id": "2ihogXy5Jxwj",
        "colab": {
          "base_uri": "https://localhost:8080/",
          "height": 255
        },
        "outputId": "71e22223-a9b9-4ca9-9f0f-9c384235a79f"
      },
      "outputs": [
        {
          "output_type": "execute_result",
          "data": {
            "text/plain": [
              "   Time        V1        V2        V3        V4        V5        V6        V7  \\\n",
              "0   0.0 -1.359807 -0.072781  2.536347  1.378155 -0.338321  0.462388  0.239599   \n",
              "1   0.0  1.191857  0.266151  0.166480  0.448154  0.060018 -0.082361 -0.078803   \n",
              "2   1.0 -1.358354 -1.340163  1.773209  0.379780 -0.503198  1.800499  0.791461   \n",
              "3   1.0 -0.966272 -0.185226  1.792993 -0.863291 -0.010309  1.247203  0.237609   \n",
              "4   2.0 -1.158233  0.877737  1.548718  0.403034 -0.407193  0.095921  0.592941   \n",
              "\n",
              "         V8        V9  ...       V21       V22       V23       V24       V25  \\\n",
              "0  0.098698  0.363787  ... -0.018307  0.277838 -0.110474  0.066928  0.128539   \n",
              "1  0.085102 -0.255425  ... -0.225775 -0.638672  0.101288 -0.339846  0.167170   \n",
              "2  0.247676 -1.514654  ...  0.247998  0.771679  0.909412 -0.689281 -0.327642   \n",
              "3  0.377436 -1.387024  ... -0.108300  0.005274 -0.190321 -1.175575  0.647376   \n",
              "4 -0.270533  0.817739  ... -0.009431  0.798278 -0.137458  0.141267 -0.206010   \n",
              "\n",
              "        V26       V27       V28  Amount  Class  \n",
              "0 -0.189115  0.133558 -0.021053  149.62      0  \n",
              "1  0.125895 -0.008983  0.014724    2.69      0  \n",
              "2 -0.139097 -0.055353 -0.059752  378.66      0  \n",
              "3 -0.221929  0.062723  0.061458  123.50      0  \n",
              "4  0.502292  0.219422  0.215153   69.99      0  \n",
              "\n",
              "[5 rows x 31 columns]"
            ],
            "text/html": [
              "\n",
              "  <div id=\"df-e5fdb861-4163-4335-a302-863a15457be9\" class=\"colab-df-container\">\n",
              "    <div>\n",
              "<style scoped>\n",
              "    .dataframe tbody tr th:only-of-type {\n",
              "        vertical-align: middle;\n",
              "    }\n",
              "\n",
              "    .dataframe tbody tr th {\n",
              "        vertical-align: top;\n",
              "    }\n",
              "\n",
              "    .dataframe thead th {\n",
              "        text-align: right;\n",
              "    }\n",
              "</style>\n",
              "<table border=\"1\" class=\"dataframe\">\n",
              "  <thead>\n",
              "    <tr style=\"text-align: right;\">\n",
              "      <th></th>\n",
              "      <th>Time</th>\n",
              "      <th>V1</th>\n",
              "      <th>V2</th>\n",
              "      <th>V3</th>\n",
              "      <th>V4</th>\n",
              "      <th>V5</th>\n",
              "      <th>V6</th>\n",
              "      <th>V7</th>\n",
              "      <th>V8</th>\n",
              "      <th>V9</th>\n",
              "      <th>...</th>\n",
              "      <th>V21</th>\n",
              "      <th>V22</th>\n",
              "      <th>V23</th>\n",
              "      <th>V24</th>\n",
              "      <th>V25</th>\n",
              "      <th>V26</th>\n",
              "      <th>V27</th>\n",
              "      <th>V28</th>\n",
              "      <th>Amount</th>\n",
              "      <th>Class</th>\n",
              "    </tr>\n",
              "  </thead>\n",
              "  <tbody>\n",
              "    <tr>\n",
              "      <th>0</th>\n",
              "      <td>0.0</td>\n",
              "      <td>-1.359807</td>\n",
              "      <td>-0.072781</td>\n",
              "      <td>2.536347</td>\n",
              "      <td>1.378155</td>\n",
              "      <td>-0.338321</td>\n",
              "      <td>0.462388</td>\n",
              "      <td>0.239599</td>\n",
              "      <td>0.098698</td>\n",
              "      <td>0.363787</td>\n",
              "      <td>...</td>\n",
              "      <td>-0.018307</td>\n",
              "      <td>0.277838</td>\n",
              "      <td>-0.110474</td>\n",
              "      <td>0.066928</td>\n",
              "      <td>0.128539</td>\n",
              "      <td>-0.189115</td>\n",
              "      <td>0.133558</td>\n",
              "      <td>-0.021053</td>\n",
              "      <td>149.62</td>\n",
              "      <td>0</td>\n",
              "    </tr>\n",
              "    <tr>\n",
              "      <th>1</th>\n",
              "      <td>0.0</td>\n",
              "      <td>1.191857</td>\n",
              "      <td>0.266151</td>\n",
              "      <td>0.166480</td>\n",
              "      <td>0.448154</td>\n",
              "      <td>0.060018</td>\n",
              "      <td>-0.082361</td>\n",
              "      <td>-0.078803</td>\n",
              "      <td>0.085102</td>\n",
              "      <td>-0.255425</td>\n",
              "      <td>...</td>\n",
              "      <td>-0.225775</td>\n",
              "      <td>-0.638672</td>\n",
              "      <td>0.101288</td>\n",
              "      <td>-0.339846</td>\n",
              "      <td>0.167170</td>\n",
              "      <td>0.125895</td>\n",
              "      <td>-0.008983</td>\n",
              "      <td>0.014724</td>\n",
              "      <td>2.69</td>\n",
              "      <td>0</td>\n",
              "    </tr>\n",
              "    <tr>\n",
              "      <th>2</th>\n",
              "      <td>1.0</td>\n",
              "      <td>-1.358354</td>\n",
              "      <td>-1.340163</td>\n",
              "      <td>1.773209</td>\n",
              "      <td>0.379780</td>\n",
              "      <td>-0.503198</td>\n",
              "      <td>1.800499</td>\n",
              "      <td>0.791461</td>\n",
              "      <td>0.247676</td>\n",
              "      <td>-1.514654</td>\n",
              "      <td>...</td>\n",
              "      <td>0.247998</td>\n",
              "      <td>0.771679</td>\n",
              "      <td>0.909412</td>\n",
              "      <td>-0.689281</td>\n",
              "      <td>-0.327642</td>\n",
              "      <td>-0.139097</td>\n",
              "      <td>-0.055353</td>\n",
              "      <td>-0.059752</td>\n",
              "      <td>378.66</td>\n",
              "      <td>0</td>\n",
              "    </tr>\n",
              "    <tr>\n",
              "      <th>3</th>\n",
              "      <td>1.0</td>\n",
              "      <td>-0.966272</td>\n",
              "      <td>-0.185226</td>\n",
              "      <td>1.792993</td>\n",
              "      <td>-0.863291</td>\n",
              "      <td>-0.010309</td>\n",
              "      <td>1.247203</td>\n",
              "      <td>0.237609</td>\n",
              "      <td>0.377436</td>\n",
              "      <td>-1.387024</td>\n",
              "      <td>...</td>\n",
              "      <td>-0.108300</td>\n",
              "      <td>0.005274</td>\n",
              "      <td>-0.190321</td>\n",
              "      <td>-1.175575</td>\n",
              "      <td>0.647376</td>\n",
              "      <td>-0.221929</td>\n",
              "      <td>0.062723</td>\n",
              "      <td>0.061458</td>\n",
              "      <td>123.50</td>\n",
              "      <td>0</td>\n",
              "    </tr>\n",
              "    <tr>\n",
              "      <th>4</th>\n",
              "      <td>2.0</td>\n",
              "      <td>-1.158233</td>\n",
              "      <td>0.877737</td>\n",
              "      <td>1.548718</td>\n",
              "      <td>0.403034</td>\n",
              "      <td>-0.407193</td>\n",
              "      <td>0.095921</td>\n",
              "      <td>0.592941</td>\n",
              "      <td>-0.270533</td>\n",
              "      <td>0.817739</td>\n",
              "      <td>...</td>\n",
              "      <td>-0.009431</td>\n",
              "      <td>0.798278</td>\n",
              "      <td>-0.137458</td>\n",
              "      <td>0.141267</td>\n",
              "      <td>-0.206010</td>\n",
              "      <td>0.502292</td>\n",
              "      <td>0.219422</td>\n",
              "      <td>0.215153</td>\n",
              "      <td>69.99</td>\n",
              "      <td>0</td>\n",
              "    </tr>\n",
              "  </tbody>\n",
              "</table>\n",
              "<p>5 rows × 31 columns</p>\n",
              "</div>\n",
              "    <div class=\"colab-df-buttons\">\n",
              "\n",
              "  <div class=\"colab-df-container\">\n",
              "    <button class=\"colab-df-convert\" onclick=\"convertToInteractive('df-e5fdb861-4163-4335-a302-863a15457be9')\"\n",
              "            title=\"Convert this dataframe to an interactive table.\"\n",
              "            style=\"display:none;\">\n",
              "\n",
              "  <svg xmlns=\"http://www.w3.org/2000/svg\" height=\"24px\" viewBox=\"0 -960 960 960\">\n",
              "    <path d=\"M120-120v-720h720v720H120Zm60-500h600v-160H180v160Zm220 220h160v-160H400v160Zm0 220h160v-160H400v160ZM180-400h160v-160H180v160Zm440 0h160v-160H620v160ZM180-180h160v-160H180v160Zm440 0h160v-160H620v160Z\"/>\n",
              "  </svg>\n",
              "    </button>\n",
              "\n",
              "  <style>\n",
              "    .colab-df-container {\n",
              "      display:flex;\n",
              "      gap: 12px;\n",
              "    }\n",
              "\n",
              "    .colab-df-convert {\n",
              "      background-color: #E8F0FE;\n",
              "      border: none;\n",
              "      border-radius: 50%;\n",
              "      cursor: pointer;\n",
              "      display: none;\n",
              "      fill: #1967D2;\n",
              "      height: 32px;\n",
              "      padding: 0 0 0 0;\n",
              "      width: 32px;\n",
              "    }\n",
              "\n",
              "    .colab-df-convert:hover {\n",
              "      background-color: #E2EBFA;\n",
              "      box-shadow: 0px 1px 2px rgba(60, 64, 67, 0.3), 0px 1px 3px 1px rgba(60, 64, 67, 0.15);\n",
              "      fill: #174EA6;\n",
              "    }\n",
              "\n",
              "    .colab-df-buttons div {\n",
              "      margin-bottom: 4px;\n",
              "    }\n",
              "\n",
              "    [theme=dark] .colab-df-convert {\n",
              "      background-color: #3B4455;\n",
              "      fill: #D2E3FC;\n",
              "    }\n",
              "\n",
              "    [theme=dark] .colab-df-convert:hover {\n",
              "      background-color: #434B5C;\n",
              "      box-shadow: 0px 1px 3px 1px rgba(0, 0, 0, 0.15);\n",
              "      filter: drop-shadow(0px 1px 2px rgba(0, 0, 0, 0.3));\n",
              "      fill: #FFFFFF;\n",
              "    }\n",
              "  </style>\n",
              "\n",
              "    <script>\n",
              "      const buttonEl =\n",
              "        document.querySelector('#df-e5fdb861-4163-4335-a302-863a15457be9 button.colab-df-convert');\n",
              "      buttonEl.style.display =\n",
              "        google.colab.kernel.accessAllowed ? 'block' : 'none';\n",
              "\n",
              "      async function convertToInteractive(key) {\n",
              "        const element = document.querySelector('#df-e5fdb861-4163-4335-a302-863a15457be9');\n",
              "        const dataTable =\n",
              "          await google.colab.kernel.invokeFunction('convertToInteractive',\n",
              "                                                    [key], {});\n",
              "        if (!dataTable) return;\n",
              "\n",
              "        const docLinkHtml = 'Like what you see? Visit the ' +\n",
              "          '<a target=\"_blank\" href=https://colab.research.google.com/notebooks/data_table.ipynb>data table notebook</a>'\n",
              "          + ' to learn more about interactive tables.';\n",
              "        element.innerHTML = '';\n",
              "        dataTable['output_type'] = 'display_data';\n",
              "        await google.colab.output.renderOutput(dataTable, element);\n",
              "        const docLink = document.createElement('div');\n",
              "        docLink.innerHTML = docLinkHtml;\n",
              "        element.appendChild(docLink);\n",
              "      }\n",
              "    </script>\n",
              "  </div>\n",
              "\n",
              "\n",
              "<div id=\"df-38b0b658-14ce-466e-a0a5-f8b3105dcb10\">\n",
              "  <button class=\"colab-df-quickchart\" onclick=\"quickchart('df-38b0b658-14ce-466e-a0a5-f8b3105dcb10')\"\n",
              "            title=\"Suggest charts\"\n",
              "            style=\"display:none;\">\n",
              "\n",
              "<svg xmlns=\"http://www.w3.org/2000/svg\" height=\"24px\"viewBox=\"0 0 24 24\"\n",
              "     width=\"24px\">\n",
              "    <g>\n",
              "        <path d=\"M19 3H5c-1.1 0-2 .9-2 2v14c0 1.1.9 2 2 2h14c1.1 0 2-.9 2-2V5c0-1.1-.9-2-2-2zM9 17H7v-7h2v7zm4 0h-2V7h2v10zm4 0h-2v-4h2v4z\"/>\n",
              "    </g>\n",
              "</svg>\n",
              "  </button>\n",
              "\n",
              "<style>\n",
              "  .colab-df-quickchart {\n",
              "      --bg-color: #E8F0FE;\n",
              "      --fill-color: #1967D2;\n",
              "      --hover-bg-color: #E2EBFA;\n",
              "      --hover-fill-color: #174EA6;\n",
              "      --disabled-fill-color: #AAA;\n",
              "      --disabled-bg-color: #DDD;\n",
              "  }\n",
              "\n",
              "  [theme=dark] .colab-df-quickchart {\n",
              "      --bg-color: #3B4455;\n",
              "      --fill-color: #D2E3FC;\n",
              "      --hover-bg-color: #434B5C;\n",
              "      --hover-fill-color: #FFFFFF;\n",
              "      --disabled-bg-color: #3B4455;\n",
              "      --disabled-fill-color: #666;\n",
              "  }\n",
              "\n",
              "  .colab-df-quickchart {\n",
              "    background-color: var(--bg-color);\n",
              "    border: none;\n",
              "    border-radius: 50%;\n",
              "    cursor: pointer;\n",
              "    display: none;\n",
              "    fill: var(--fill-color);\n",
              "    height: 32px;\n",
              "    padding: 0;\n",
              "    width: 32px;\n",
              "  }\n",
              "\n",
              "  .colab-df-quickchart:hover {\n",
              "    background-color: var(--hover-bg-color);\n",
              "    box-shadow: 0 1px 2px rgba(60, 64, 67, 0.3), 0 1px 3px 1px rgba(60, 64, 67, 0.15);\n",
              "    fill: var(--button-hover-fill-color);\n",
              "  }\n",
              "\n",
              "  .colab-df-quickchart-complete:disabled,\n",
              "  .colab-df-quickchart-complete:disabled:hover {\n",
              "    background-color: var(--disabled-bg-color);\n",
              "    fill: var(--disabled-fill-color);\n",
              "    box-shadow: none;\n",
              "  }\n",
              "\n",
              "  .colab-df-spinner {\n",
              "    border: 2px solid var(--fill-color);\n",
              "    border-color: transparent;\n",
              "    border-bottom-color: var(--fill-color);\n",
              "    animation:\n",
              "      spin 1s steps(1) infinite;\n",
              "  }\n",
              "\n",
              "  @keyframes spin {\n",
              "    0% {\n",
              "      border-color: transparent;\n",
              "      border-bottom-color: var(--fill-color);\n",
              "      border-left-color: var(--fill-color);\n",
              "    }\n",
              "    20% {\n",
              "      border-color: transparent;\n",
              "      border-left-color: var(--fill-color);\n",
              "      border-top-color: var(--fill-color);\n",
              "    }\n",
              "    30% {\n",
              "      border-color: transparent;\n",
              "      border-left-color: var(--fill-color);\n",
              "      border-top-color: var(--fill-color);\n",
              "      border-right-color: var(--fill-color);\n",
              "    }\n",
              "    40% {\n",
              "      border-color: transparent;\n",
              "      border-right-color: var(--fill-color);\n",
              "      border-top-color: var(--fill-color);\n",
              "    }\n",
              "    60% {\n",
              "      border-color: transparent;\n",
              "      border-right-color: var(--fill-color);\n",
              "    }\n",
              "    80% {\n",
              "      border-color: transparent;\n",
              "      border-right-color: var(--fill-color);\n",
              "      border-bottom-color: var(--fill-color);\n",
              "    }\n",
              "    90% {\n",
              "      border-color: transparent;\n",
              "      border-bottom-color: var(--fill-color);\n",
              "    }\n",
              "  }\n",
              "</style>\n",
              "\n",
              "  <script>\n",
              "    async function quickchart(key) {\n",
              "      const quickchartButtonEl =\n",
              "        document.querySelector('#' + key + ' button');\n",
              "      quickchartButtonEl.disabled = true;  // To prevent multiple clicks.\n",
              "      quickchartButtonEl.classList.add('colab-df-spinner');\n",
              "      try {\n",
              "        const charts = await google.colab.kernel.invokeFunction(\n",
              "            'suggestCharts', [key], {});\n",
              "      } catch (error) {\n",
              "        console.error('Error during call to suggestCharts:', error);\n",
              "      }\n",
              "      quickchartButtonEl.classList.remove('colab-df-spinner');\n",
              "      quickchartButtonEl.classList.add('colab-df-quickchart-complete');\n",
              "    }\n",
              "    (() => {\n",
              "      let quickchartButtonEl =\n",
              "        document.querySelector('#df-38b0b658-14ce-466e-a0a5-f8b3105dcb10 button');\n",
              "      quickchartButtonEl.style.display =\n",
              "        google.colab.kernel.accessAllowed ? 'block' : 'none';\n",
              "    })();\n",
              "  </script>\n",
              "</div>\n",
              "\n",
              "    </div>\n",
              "  </div>\n"
            ],
            "application/vnd.google.colaboratory.intrinsic+json": {
              "type": "dataframe",
              "variable_name": "df"
            }
          },
          "metadata": {},
          "execution_count": 3
        }
      ],
      "source": [
        "import pandas as pd\n",
        "import numpy as np\n",
        "\n",
        "df = pd.read_csv('creditcard.csv')\n",
        "df.head()"
      ]
    },
    {
      "cell_type": "markdown",
      "source": [
        "## EDA\n"
      ],
      "metadata": {
        "id": "8Ny94fuMuBHz"
      }
    },
    {
      "cell_type": "code",
      "source": [
        "df.shape"
      ],
      "metadata": {
        "colab": {
          "base_uri": "https://localhost:8080/"
        },
        "id": "QyCCSJK4J0dL",
        "outputId": "bc629a3a-cbba-4926-cba8-0793e356b152"
      },
      "execution_count": 4,
      "outputs": [
        {
          "output_type": "execute_result",
          "data": {
            "text/plain": [
              "(284807, 31)"
            ]
          },
          "metadata": {},
          "execution_count": 4
        }
      ]
    },
    {
      "cell_type": "code",
      "source": [
        "df.isnull().sum()"
      ],
      "metadata": {
        "colab": {
          "base_uri": "https://localhost:8080/"
        },
        "id": "zZHMw7q4Bq-k",
        "outputId": "e17c1a45-b1f5-4616-e664-c3a28c3aa91b"
      },
      "execution_count": 5,
      "outputs": [
        {
          "output_type": "execute_result",
          "data": {
            "text/plain": [
              "Time      0\n",
              "V1        0\n",
              "V2        0\n",
              "V3        0\n",
              "V4        0\n",
              "V5        0\n",
              "V6        0\n",
              "V7        0\n",
              "V8        0\n",
              "V9        0\n",
              "V10       0\n",
              "V11       0\n",
              "V12       0\n",
              "V13       0\n",
              "V14       0\n",
              "V15       0\n",
              "V16       0\n",
              "V17       0\n",
              "V18       0\n",
              "V19       0\n",
              "V20       0\n",
              "V21       0\n",
              "V22       0\n",
              "V23       0\n",
              "V24       0\n",
              "V25       0\n",
              "V26       0\n",
              "V27       0\n",
              "V28       0\n",
              "Amount    0\n",
              "Class     0\n",
              "dtype: int64"
            ]
          },
          "metadata": {},
          "execution_count": 5
        }
      ]
    },
    {
      "cell_type": "code",
      "source": [
        "df.info()"
      ],
      "metadata": {
        "colab": {
          "base_uri": "https://localhost:8080/"
        },
        "id": "nU2PokWvHtbt",
        "outputId": "c751fbad-b55c-4e9b-bf8d-a6674f685f10"
      },
      "execution_count": 6,
      "outputs": [
        {
          "output_type": "stream",
          "name": "stdout",
          "text": [
            "<class 'pandas.core.frame.DataFrame'>\n",
            "RangeIndex: 284807 entries, 0 to 284806\n",
            "Data columns (total 31 columns):\n",
            " #   Column  Non-Null Count   Dtype  \n",
            "---  ------  --------------   -----  \n",
            " 0   Time    284807 non-null  float64\n",
            " 1   V1      284807 non-null  float64\n",
            " 2   V2      284807 non-null  float64\n",
            " 3   V3      284807 non-null  float64\n",
            " 4   V4      284807 non-null  float64\n",
            " 5   V5      284807 non-null  float64\n",
            " 6   V6      284807 non-null  float64\n",
            " 7   V7      284807 non-null  float64\n",
            " 8   V8      284807 non-null  float64\n",
            " 9   V9      284807 non-null  float64\n",
            " 10  V10     284807 non-null  float64\n",
            " 11  V11     284807 non-null  float64\n",
            " 12  V12     284807 non-null  float64\n",
            " 13  V13     284807 non-null  float64\n",
            " 14  V14     284807 non-null  float64\n",
            " 15  V15     284807 non-null  float64\n",
            " 16  V16     284807 non-null  float64\n",
            " 17  V17     284807 non-null  float64\n",
            " 18  V18     284807 non-null  float64\n",
            " 19  V19     284807 non-null  float64\n",
            " 20  V20     284807 non-null  float64\n",
            " 21  V21     284807 non-null  float64\n",
            " 22  V22     284807 non-null  float64\n",
            " 23  V23     284807 non-null  float64\n",
            " 24  V24     284807 non-null  float64\n",
            " 25  V25     284807 non-null  float64\n",
            " 26  V26     284807 non-null  float64\n",
            " 27  V27     284807 non-null  float64\n",
            " 28  V28     284807 non-null  float64\n",
            " 29  Amount  284807 non-null  float64\n",
            " 30  Class   284807 non-null  int64  \n",
            "dtypes: float64(30), int64(1)\n",
            "memory usage: 67.4 MB\n"
          ]
        }
      ]
    },
    {
      "cell_type": "markdown",
      "source": [
        "## Missing Values"
      ],
      "metadata": {
        "id": "Tmiyg_1xLKUJ"
      }
    },
    {
      "cell_type": "code",
      "source": [
        "df_fill = df.interpolate()\n",
        "df_fill.isnull().sum().value_counts()"
      ],
      "metadata": {
        "colab": {
          "base_uri": "https://localhost:8080/"
        },
        "id": "hVLyGngdLaFS",
        "outputId": "3d458930-3a2a-45b3-bf5a-f316932fa9c9"
      },
      "execution_count": 7,
      "outputs": [
        {
          "output_type": "execute_result",
          "data": {
            "text/plain": [
              "0    31\n",
              "Name: count, dtype: int64"
            ]
          },
          "metadata": {},
          "execution_count": 7
        }
      ]
    },
    {
      "cell_type": "code",
      "source": [
        "y = df_fill['Class']"
      ],
      "metadata": {
        "id": "aMO-UWB2kOA9"
      },
      "execution_count": 8,
      "outputs": []
    },
    {
      "cell_type": "code",
      "source": [
        "y.value_counts()"
      ],
      "metadata": {
        "colab": {
          "base_uri": "https://localhost:8080/"
        },
        "id": "j7OeHqVfkyEl",
        "outputId": "0413f56b-d7a9-4d73-9cee-9f89933c136b"
      },
      "execution_count": 9,
      "outputs": [
        {
          "output_type": "execute_result",
          "data": {
            "text/plain": [
              "Class\n",
              "0    284315\n",
              "1       492\n",
              "Name: count, dtype: int64"
            ]
          },
          "metadata": {},
          "execution_count": 9
        }
      ]
    },
    {
      "cell_type": "code",
      "source": [
        "df_fill.select_dtypes('number').columns"
      ],
      "metadata": {
        "colab": {
          "base_uri": "https://localhost:8080/"
        },
        "id": "cho1CJCTKa5Y",
        "outputId": "f707a0cf-26f9-477d-afdd-1a8a486e0b87"
      },
      "execution_count": 10,
      "outputs": [
        {
          "output_type": "execute_result",
          "data": {
            "text/plain": [
              "Index(['Time', 'V1', 'V2', 'V3', 'V4', 'V5', 'V6', 'V7', 'V8', 'V9', 'V10',\n",
              "       'V11', 'V12', 'V13', 'V14', 'V15', 'V16', 'V17', 'V18', 'V19', 'V20',\n",
              "       'V21', 'V22', 'V23', 'V24', 'V25', 'V26', 'V27', 'V28', 'Amount',\n",
              "       'Class'],\n",
              "      dtype='object')"
            ]
          },
          "metadata": {},
          "execution_count": 10
        }
      ]
    },
    {
      "cell_type": "code",
      "source": [
        "num_col = ['V1', 'V2', 'V3', 'V4', 'V5', 'V6', 'V7', 'V8', 'V9', 'V10',\n",
        "       'V11', 'V12', 'V13', 'V14', 'V15', 'V16', 'V17', 'V18', 'V19', 'V20',\n",
        "       'V21', 'V22', 'V23', 'V24', 'V25', 'V26', 'V27', 'V28', 'Amount']"
      ],
      "metadata": {
        "id": "H9jaQhrnH_ai"
      },
      "execution_count": 11,
      "outputs": []
    },
    {
      "cell_type": "markdown",
      "source": [
        "## Split Data"
      ],
      "metadata": {
        "id": "qvVyvLvRSt8v"
      }
    },
    {
      "cell_type": "code",
      "source": [
        "from sklearn.model_selection import train_test_split\n",
        "x_train, x_test, y_train, y_test = train_test_split(df_fill[num_col], y, test_size=0.3, random_state=1000, stratify=y)"
      ],
      "metadata": {
        "id": "ELY6NfnPSdgW"
      },
      "execution_count": 12,
      "outputs": []
    },
    {
      "cell_type": "markdown",
      "source": [
        "## Data Preprocessing - StandardScaler\n",
        "\n",
        "\n",
        "\n",
        "\n"
      ],
      "metadata": {
        "id": "tmHYzYI_ukl1"
      }
    },
    {
      "cell_type": "code",
      "source": [
        "from sklearn.preprocessing import StandardScaler\n",
        "scaler = StandardScaler()\n",
        "scaler.fit(x_train[num_col])\n",
        "train_scaled = scaler.transform(x_train[num_col])\n",
        "test_scaled = scaler.transform(x_test[num_col])\n",
        "print(train_scaled.shape, test_scaled.shape)"
      ],
      "metadata": {
        "id": "JkuFL-9-Myw7",
        "colab": {
          "base_uri": "https://localhost:8080/"
        },
        "outputId": "c2b4d8a0-520e-4096-bc99-b450c6b2f11d"
      },
      "execution_count": 13,
      "outputs": [
        {
          "output_type": "stream",
          "name": "stdout",
          "text": [
            "(199364, 29) (85443, 29)\n"
          ]
        }
      ]
    },
    {
      "cell_type": "code",
      "source": [
        "train_scaled"
      ],
      "metadata": {
        "colab": {
          "base_uri": "https://localhost:8080/"
        },
        "id": "6Jzn0nUqImHh",
        "outputId": "f565b20f-60f7-4a4b-c721-bc9a4e313ff4"
      },
      "execution_count": 14,
      "outputs": [
        {
          "output_type": "execute_result",
          "data": {
            "text/plain": [
              "array([[ 0.62539845, -0.31558064,  0.50003822, ...,  0.19625056,\n",
              "         0.05381621, -0.35271904],\n",
              "       [ 1.03596745,  0.12655227, -0.90586978, ..., -0.23845777,\n",
              "        -0.10041601, -0.32445882],\n",
              "       [ 1.00767234, -0.16471114, -0.48990617, ...,  0.06931022,\n",
              "        -0.09565296, -0.23911215],\n",
              "       ...,\n",
              "       [-0.11188193,  0.47801879,  0.35160316, ...,  0.22726392,\n",
              "         0.35556878, -0.24028461],\n",
              "       [-1.26778321,  1.81455803, -1.9032896 , ...,  1.28321855,\n",
              "        -0.2645594 , -0.35057627],\n",
              "       [-0.19612497,  0.86853901,  0.5185054 , ...,  0.27378662,\n",
              "         0.53043023, -0.35065713]])"
            ]
          },
          "metadata": {},
          "execution_count": 14
        }
      ]
    },
    {
      "cell_type": "markdown",
      "source": [
        "## Make DataFrame"
      ],
      "metadata": {
        "id": "vvVzA5tKve8X"
      }
    },
    {
      "cell_type": "code",
      "source": [
        "train_scaled_df = pd.DataFrame(train_scaled,columns=x_train[num_col].columns)\n",
        "test_scaled_df = pd.DataFrame(test_scaled,columns=x_test[num_col].columns)\n",
        "train_scaled_df.head()"
      ],
      "metadata": {
        "id": "JgCwfNvPOrcO",
        "colab": {
          "base_uri": "https://localhost:8080/",
          "height": 255
        },
        "outputId": "6ab301af-4c32-4096-d667-f4f8102e5136"
      },
      "execution_count": 15,
      "outputs": [
        {
          "output_type": "execute_result",
          "data": {
            "text/plain": [
              "         V1        V2        V3        V4        V5        V6        V7  \\\n",
              "0  0.625398 -0.315581  0.500038 -0.636278 -0.833108 -0.261963 -0.651925   \n",
              "1  1.035967  0.126552 -0.905870  0.536597  0.119642 -0.864848  0.048713   \n",
              "2  1.007672 -0.164711 -0.489906  0.133111 -0.324627 -0.758455 -0.037653   \n",
              "3  0.017781  0.737849 -0.710596  0.301874  1.496402  0.102178  1.346267   \n",
              "4 -1.819134  1.853014  0.388897 -1.528366 -0.230209 -0.545247  0.702131   \n",
              "\n",
              "         V8        V9       V10  ...       V20       V21       V22       V23  \\\n",
              "0  0.190430  1.669963 -0.796956  ... -0.268411 -0.002279  0.182519 -0.108439   \n",
              "1 -0.257802  1.701237 -0.673183  ... -0.329529 -0.661858 -1.521266  0.660147   \n",
              "2 -0.174416  1.169109 -0.343610  ... -0.270327 -0.611858 -1.637567  0.683870   \n",
              "3 -0.480475 -0.853439  0.693606  ... -0.037884  0.397577  1.443333 -0.402395   \n",
              "4 -0.259396  2.540310  3.553560  ...  2.417109 -0.667744 -0.352527  0.094821   \n",
              "\n",
              "        V24       V25       V26       V27       V28    Amount  \n",
              "0 -0.036426  0.883814 -1.402862  0.196251  0.053816 -0.352719  \n",
              "1  1.601460 -0.725349  0.214535 -0.238458 -0.100416 -0.324459  \n",
              "2 -0.178143 -0.757669 -2.249847  0.069310 -0.095653 -0.239112  \n",
              "3 -0.269689 -1.472228 -1.231781 -0.648599  0.124012 -0.247602  \n",
              "4  0.111694  0.385831  1.496630  2.575828  1.580842 -0.353649  \n",
              "\n",
              "[5 rows x 29 columns]"
            ],
            "text/html": [
              "\n",
              "  <div id=\"df-56fc3a0b-5f25-4c76-8d0a-dba450754fdb\" class=\"colab-df-container\">\n",
              "    <div>\n",
              "<style scoped>\n",
              "    .dataframe tbody tr th:only-of-type {\n",
              "        vertical-align: middle;\n",
              "    }\n",
              "\n",
              "    .dataframe tbody tr th {\n",
              "        vertical-align: top;\n",
              "    }\n",
              "\n",
              "    .dataframe thead th {\n",
              "        text-align: right;\n",
              "    }\n",
              "</style>\n",
              "<table border=\"1\" class=\"dataframe\">\n",
              "  <thead>\n",
              "    <tr style=\"text-align: right;\">\n",
              "      <th></th>\n",
              "      <th>V1</th>\n",
              "      <th>V2</th>\n",
              "      <th>V3</th>\n",
              "      <th>V4</th>\n",
              "      <th>V5</th>\n",
              "      <th>V6</th>\n",
              "      <th>V7</th>\n",
              "      <th>V8</th>\n",
              "      <th>V9</th>\n",
              "      <th>V10</th>\n",
              "      <th>...</th>\n",
              "      <th>V20</th>\n",
              "      <th>V21</th>\n",
              "      <th>V22</th>\n",
              "      <th>V23</th>\n",
              "      <th>V24</th>\n",
              "      <th>V25</th>\n",
              "      <th>V26</th>\n",
              "      <th>V27</th>\n",
              "      <th>V28</th>\n",
              "      <th>Amount</th>\n",
              "    </tr>\n",
              "  </thead>\n",
              "  <tbody>\n",
              "    <tr>\n",
              "      <th>0</th>\n",
              "      <td>0.625398</td>\n",
              "      <td>-0.315581</td>\n",
              "      <td>0.500038</td>\n",
              "      <td>-0.636278</td>\n",
              "      <td>-0.833108</td>\n",
              "      <td>-0.261963</td>\n",
              "      <td>-0.651925</td>\n",
              "      <td>0.190430</td>\n",
              "      <td>1.669963</td>\n",
              "      <td>-0.796956</td>\n",
              "      <td>...</td>\n",
              "      <td>-0.268411</td>\n",
              "      <td>-0.002279</td>\n",
              "      <td>0.182519</td>\n",
              "      <td>-0.108439</td>\n",
              "      <td>-0.036426</td>\n",
              "      <td>0.883814</td>\n",
              "      <td>-1.402862</td>\n",
              "      <td>0.196251</td>\n",
              "      <td>0.053816</td>\n",
              "      <td>-0.352719</td>\n",
              "    </tr>\n",
              "    <tr>\n",
              "      <th>1</th>\n",
              "      <td>1.035967</td>\n",
              "      <td>0.126552</td>\n",
              "      <td>-0.905870</td>\n",
              "      <td>0.536597</td>\n",
              "      <td>0.119642</td>\n",
              "      <td>-0.864848</td>\n",
              "      <td>0.048713</td>\n",
              "      <td>-0.257802</td>\n",
              "      <td>1.701237</td>\n",
              "      <td>-0.673183</td>\n",
              "      <td>...</td>\n",
              "      <td>-0.329529</td>\n",
              "      <td>-0.661858</td>\n",
              "      <td>-1.521266</td>\n",
              "      <td>0.660147</td>\n",
              "      <td>1.601460</td>\n",
              "      <td>-0.725349</td>\n",
              "      <td>0.214535</td>\n",
              "      <td>-0.238458</td>\n",
              "      <td>-0.100416</td>\n",
              "      <td>-0.324459</td>\n",
              "    </tr>\n",
              "    <tr>\n",
              "      <th>2</th>\n",
              "      <td>1.007672</td>\n",
              "      <td>-0.164711</td>\n",
              "      <td>-0.489906</td>\n",
              "      <td>0.133111</td>\n",
              "      <td>-0.324627</td>\n",
              "      <td>-0.758455</td>\n",
              "      <td>-0.037653</td>\n",
              "      <td>-0.174416</td>\n",
              "      <td>1.169109</td>\n",
              "      <td>-0.343610</td>\n",
              "      <td>...</td>\n",
              "      <td>-0.270327</td>\n",
              "      <td>-0.611858</td>\n",
              "      <td>-1.637567</td>\n",
              "      <td>0.683870</td>\n",
              "      <td>-0.178143</td>\n",
              "      <td>-0.757669</td>\n",
              "      <td>-2.249847</td>\n",
              "      <td>0.069310</td>\n",
              "      <td>-0.095653</td>\n",
              "      <td>-0.239112</td>\n",
              "    </tr>\n",
              "    <tr>\n",
              "      <th>3</th>\n",
              "      <td>0.017781</td>\n",
              "      <td>0.737849</td>\n",
              "      <td>-0.710596</td>\n",
              "      <td>0.301874</td>\n",
              "      <td>1.496402</td>\n",
              "      <td>0.102178</td>\n",
              "      <td>1.346267</td>\n",
              "      <td>-0.480475</td>\n",
              "      <td>-0.853439</td>\n",
              "      <td>0.693606</td>\n",
              "      <td>...</td>\n",
              "      <td>-0.037884</td>\n",
              "      <td>0.397577</td>\n",
              "      <td>1.443333</td>\n",
              "      <td>-0.402395</td>\n",
              "      <td>-0.269689</td>\n",
              "      <td>-1.472228</td>\n",
              "      <td>-1.231781</td>\n",
              "      <td>-0.648599</td>\n",
              "      <td>0.124012</td>\n",
              "      <td>-0.247602</td>\n",
              "    </tr>\n",
              "    <tr>\n",
              "      <th>4</th>\n",
              "      <td>-1.819134</td>\n",
              "      <td>1.853014</td>\n",
              "      <td>0.388897</td>\n",
              "      <td>-1.528366</td>\n",
              "      <td>-0.230209</td>\n",
              "      <td>-0.545247</td>\n",
              "      <td>0.702131</td>\n",
              "      <td>-0.259396</td>\n",
              "      <td>2.540310</td>\n",
              "      <td>3.553560</td>\n",
              "      <td>...</td>\n",
              "      <td>2.417109</td>\n",
              "      <td>-0.667744</td>\n",
              "      <td>-0.352527</td>\n",
              "      <td>0.094821</td>\n",
              "      <td>0.111694</td>\n",
              "      <td>0.385831</td>\n",
              "      <td>1.496630</td>\n",
              "      <td>2.575828</td>\n",
              "      <td>1.580842</td>\n",
              "      <td>-0.353649</td>\n",
              "    </tr>\n",
              "  </tbody>\n",
              "</table>\n",
              "<p>5 rows × 29 columns</p>\n",
              "</div>\n",
              "    <div class=\"colab-df-buttons\">\n",
              "\n",
              "  <div class=\"colab-df-container\">\n",
              "    <button class=\"colab-df-convert\" onclick=\"convertToInteractive('df-56fc3a0b-5f25-4c76-8d0a-dba450754fdb')\"\n",
              "            title=\"Convert this dataframe to an interactive table.\"\n",
              "            style=\"display:none;\">\n",
              "\n",
              "  <svg xmlns=\"http://www.w3.org/2000/svg\" height=\"24px\" viewBox=\"0 -960 960 960\">\n",
              "    <path d=\"M120-120v-720h720v720H120Zm60-500h600v-160H180v160Zm220 220h160v-160H400v160Zm0 220h160v-160H400v160ZM180-400h160v-160H180v160Zm440 0h160v-160H620v160ZM180-180h160v-160H180v160Zm440 0h160v-160H620v160Z\"/>\n",
              "  </svg>\n",
              "    </button>\n",
              "\n",
              "  <style>\n",
              "    .colab-df-container {\n",
              "      display:flex;\n",
              "      gap: 12px;\n",
              "    }\n",
              "\n",
              "    .colab-df-convert {\n",
              "      background-color: #E8F0FE;\n",
              "      border: none;\n",
              "      border-radius: 50%;\n",
              "      cursor: pointer;\n",
              "      display: none;\n",
              "      fill: #1967D2;\n",
              "      height: 32px;\n",
              "      padding: 0 0 0 0;\n",
              "      width: 32px;\n",
              "    }\n",
              "\n",
              "    .colab-df-convert:hover {\n",
              "      background-color: #E2EBFA;\n",
              "      box-shadow: 0px 1px 2px rgba(60, 64, 67, 0.3), 0px 1px 3px 1px rgba(60, 64, 67, 0.15);\n",
              "      fill: #174EA6;\n",
              "    }\n",
              "\n",
              "    .colab-df-buttons div {\n",
              "      margin-bottom: 4px;\n",
              "    }\n",
              "\n",
              "    [theme=dark] .colab-df-convert {\n",
              "      background-color: #3B4455;\n",
              "      fill: #D2E3FC;\n",
              "    }\n",
              "\n",
              "    [theme=dark] .colab-df-convert:hover {\n",
              "      background-color: #434B5C;\n",
              "      box-shadow: 0px 1px 3px 1px rgba(0, 0, 0, 0.15);\n",
              "      filter: drop-shadow(0px 1px 2px rgba(0, 0, 0, 0.3));\n",
              "      fill: #FFFFFF;\n",
              "    }\n",
              "  </style>\n",
              "\n",
              "    <script>\n",
              "      const buttonEl =\n",
              "        document.querySelector('#df-56fc3a0b-5f25-4c76-8d0a-dba450754fdb button.colab-df-convert');\n",
              "      buttonEl.style.display =\n",
              "        google.colab.kernel.accessAllowed ? 'block' : 'none';\n",
              "\n",
              "      async function convertToInteractive(key) {\n",
              "        const element = document.querySelector('#df-56fc3a0b-5f25-4c76-8d0a-dba450754fdb');\n",
              "        const dataTable =\n",
              "          await google.colab.kernel.invokeFunction('convertToInteractive',\n",
              "                                                    [key], {});\n",
              "        if (!dataTable) return;\n",
              "\n",
              "        const docLinkHtml = 'Like what you see? Visit the ' +\n",
              "          '<a target=\"_blank\" href=https://colab.research.google.com/notebooks/data_table.ipynb>data table notebook</a>'\n",
              "          + ' to learn more about interactive tables.';\n",
              "        element.innerHTML = '';\n",
              "        dataTable['output_type'] = 'display_data';\n",
              "        await google.colab.output.renderOutput(dataTable, element);\n",
              "        const docLink = document.createElement('div');\n",
              "        docLink.innerHTML = docLinkHtml;\n",
              "        element.appendChild(docLink);\n",
              "      }\n",
              "    </script>\n",
              "  </div>\n",
              "\n",
              "\n",
              "<div id=\"df-fa12db4e-8799-46a4-91d5-e2044fe2c1a0\">\n",
              "  <button class=\"colab-df-quickchart\" onclick=\"quickchart('df-fa12db4e-8799-46a4-91d5-e2044fe2c1a0')\"\n",
              "            title=\"Suggest charts\"\n",
              "            style=\"display:none;\">\n",
              "\n",
              "<svg xmlns=\"http://www.w3.org/2000/svg\" height=\"24px\"viewBox=\"0 0 24 24\"\n",
              "     width=\"24px\">\n",
              "    <g>\n",
              "        <path d=\"M19 3H5c-1.1 0-2 .9-2 2v14c0 1.1.9 2 2 2h14c1.1 0 2-.9 2-2V5c0-1.1-.9-2-2-2zM9 17H7v-7h2v7zm4 0h-2V7h2v10zm4 0h-2v-4h2v4z\"/>\n",
              "    </g>\n",
              "</svg>\n",
              "  </button>\n",
              "\n",
              "<style>\n",
              "  .colab-df-quickchart {\n",
              "      --bg-color: #E8F0FE;\n",
              "      --fill-color: #1967D2;\n",
              "      --hover-bg-color: #E2EBFA;\n",
              "      --hover-fill-color: #174EA6;\n",
              "      --disabled-fill-color: #AAA;\n",
              "      --disabled-bg-color: #DDD;\n",
              "  }\n",
              "\n",
              "  [theme=dark] .colab-df-quickchart {\n",
              "      --bg-color: #3B4455;\n",
              "      --fill-color: #D2E3FC;\n",
              "      --hover-bg-color: #434B5C;\n",
              "      --hover-fill-color: #FFFFFF;\n",
              "      --disabled-bg-color: #3B4455;\n",
              "      --disabled-fill-color: #666;\n",
              "  }\n",
              "\n",
              "  .colab-df-quickchart {\n",
              "    background-color: var(--bg-color);\n",
              "    border: none;\n",
              "    border-radius: 50%;\n",
              "    cursor: pointer;\n",
              "    display: none;\n",
              "    fill: var(--fill-color);\n",
              "    height: 32px;\n",
              "    padding: 0;\n",
              "    width: 32px;\n",
              "  }\n",
              "\n",
              "  .colab-df-quickchart:hover {\n",
              "    background-color: var(--hover-bg-color);\n",
              "    box-shadow: 0 1px 2px rgba(60, 64, 67, 0.3), 0 1px 3px 1px rgba(60, 64, 67, 0.15);\n",
              "    fill: var(--button-hover-fill-color);\n",
              "  }\n",
              "\n",
              "  .colab-df-quickchart-complete:disabled,\n",
              "  .colab-df-quickchart-complete:disabled:hover {\n",
              "    background-color: var(--disabled-bg-color);\n",
              "    fill: var(--disabled-fill-color);\n",
              "    box-shadow: none;\n",
              "  }\n",
              "\n",
              "  .colab-df-spinner {\n",
              "    border: 2px solid var(--fill-color);\n",
              "    border-color: transparent;\n",
              "    border-bottom-color: var(--fill-color);\n",
              "    animation:\n",
              "      spin 1s steps(1) infinite;\n",
              "  }\n",
              "\n",
              "  @keyframes spin {\n",
              "    0% {\n",
              "      border-color: transparent;\n",
              "      border-bottom-color: var(--fill-color);\n",
              "      border-left-color: var(--fill-color);\n",
              "    }\n",
              "    20% {\n",
              "      border-color: transparent;\n",
              "      border-left-color: var(--fill-color);\n",
              "      border-top-color: var(--fill-color);\n",
              "    }\n",
              "    30% {\n",
              "      border-color: transparent;\n",
              "      border-left-color: var(--fill-color);\n",
              "      border-top-color: var(--fill-color);\n",
              "      border-right-color: var(--fill-color);\n",
              "    }\n",
              "    40% {\n",
              "      border-color: transparent;\n",
              "      border-right-color: var(--fill-color);\n",
              "      border-top-color: var(--fill-color);\n",
              "    }\n",
              "    60% {\n",
              "      border-color: transparent;\n",
              "      border-right-color: var(--fill-color);\n",
              "    }\n",
              "    80% {\n",
              "      border-color: transparent;\n",
              "      border-right-color: var(--fill-color);\n",
              "      border-bottom-color: var(--fill-color);\n",
              "    }\n",
              "    90% {\n",
              "      border-color: transparent;\n",
              "      border-bottom-color: var(--fill-color);\n",
              "    }\n",
              "  }\n",
              "</style>\n",
              "\n",
              "  <script>\n",
              "    async function quickchart(key) {\n",
              "      const quickchartButtonEl =\n",
              "        document.querySelector('#' + key + ' button');\n",
              "      quickchartButtonEl.disabled = true;  // To prevent multiple clicks.\n",
              "      quickchartButtonEl.classList.add('colab-df-spinner');\n",
              "      try {\n",
              "        const charts = await google.colab.kernel.invokeFunction(\n",
              "            'suggestCharts', [key], {});\n",
              "      } catch (error) {\n",
              "        console.error('Error during call to suggestCharts:', error);\n",
              "      }\n",
              "      quickchartButtonEl.classList.remove('colab-df-spinner');\n",
              "      quickchartButtonEl.classList.add('colab-df-quickchart-complete');\n",
              "    }\n",
              "    (() => {\n",
              "      let quickchartButtonEl =\n",
              "        document.querySelector('#df-fa12db4e-8799-46a4-91d5-e2044fe2c1a0 button');\n",
              "      quickchartButtonEl.style.display =\n",
              "        google.colab.kernel.accessAllowed ? 'block' : 'none';\n",
              "    })();\n",
              "  </script>\n",
              "</div>\n",
              "\n",
              "    </div>\n",
              "  </div>\n"
            ],
            "application/vnd.google.colaboratory.intrinsic+json": {
              "type": "dataframe",
              "variable_name": "train_scaled_df"
            }
          },
          "metadata": {},
          "execution_count": 15
        }
      ]
    },
    {
      "cell_type": "markdown",
      "source": [
        "## Dimensionality Reduction - PCA\n",
        "* PCA vs t-SNE vs UMAP\n",
        "* https://kwonkai.tistory.com/65\n",
        "\n",
        "\n",
        "\n"
      ],
      "metadata": {
        "id": "5oNSMo1vvpfv"
      }
    },
    {
      "cell_type": "markdown",
      "source": [
        "* 그래프를 그리면 알 수 있는 것\n",
        "* 정말 두개 컬럼이 상관없는지\n",
        "* class마다 점이 잘 분리가 되었는지\n",
        "* 점들간에 분리가 잘 될수록  차원축소가 잘 된 것"
      ],
      "metadata": {
        "id": "dc7-AJrkrd7k"
      }
    },
    {
      "cell_type": "code",
      "source": [
        "from sklearn.decomposition import PCA\n",
        "pca = PCA(n_components=2)\n",
        "pca.fit(train_scaled_df)\n",
        "train_pca = pca.transform(train_scaled_df)\n",
        "test_pca = pca.transform(test_scaled_df)\n",
        "print(train_pca.shape, test_pca.shape)"
      ],
      "metadata": {
        "id": "WrhFDb9NY-_1",
        "colab": {
          "base_uri": "https://localhost:8080/"
        },
        "outputId": "cc2a427f-1522-41d6-dcea-c852f583d87c"
      },
      "execution_count": 16,
      "outputs": [
        {
          "output_type": "stream",
          "name": "stdout",
          "text": [
            "(199364, 2) (85443, 2)\n"
          ]
        }
      ]
    },
    {
      "cell_type": "code",
      "source": [
        "y_test.value_counts()"
      ],
      "metadata": {
        "colab": {
          "base_uri": "https://localhost:8080/"
        },
        "id": "EPuyn4FiirE9",
        "outputId": "78b2a58d-3a21-4307-d3b4-a2de3db35ca7"
      },
      "execution_count": 17,
      "outputs": [
        {
          "output_type": "execute_result",
          "data": {
            "text/plain": [
              "Class\n",
              "0    85295\n",
              "1      148\n",
              "Name: count, dtype: int64"
            ]
          },
          "metadata": {},
          "execution_count": 17
        }
      ]
    },
    {
      "cell_type": "code",
      "source": [
        "import matplotlib.pyplot as plt\n",
        "fig, axes = plt.subplots(1,2,figsize=(15,5))\n",
        "\n",
        "axes[0].set_title('PCA - train')\n",
        "for label in sorted(y_train.unique()):\n",
        "    axes[0].scatter(train_pca[y_train == label, 0], train_pca[y_train == label, 1], label='Class: {}'.format(label))\n",
        "\n",
        "axes[1].set_title('PCA - test')\n",
        "for label in sorted(y_test.unique()):\n",
        "    axes[1].scatter(test_pca[y_test == label, 0], test_pca[y_test == label, 1], label='Class: {}'.format(label))\n",
        "\n",
        "axes[0].legend(loc='upper right', bbox_to_anchor=(1.4, 1))\n",
        "axes[1].legend(loc='upper right', bbox_to_anchor=(1.4, 1))\n",
        "plt.tight_layout()\n",
        "plt.show()"
      ],
      "metadata": {
        "colab": {
          "base_uri": "https://localhost:8080/",
          "height": 527
        },
        "id": "Y8KwYSdJPhM7",
        "outputId": "dbe5c0ac-a92e-44f2-96a1-7a49d4fb8496"
      },
      "execution_count": 18,
      "outputs": [
        {
          "output_type": "display_data",
          "data": {
            "text/plain": [
              "<Figure size 1500x500 with 2 Axes>"
            ],
            "image/png": "[encoded data removed]"
          },
          "metadata": {}
        }
      ]
    },
    {
      "cell_type": "markdown",
      "source": [
        "## Dimensionality Reduction - t-SNE\n",
        "* PCA후에 t-sne나 UMAP을 해야하는 이유\n",
        "* 계산 효율성을 높이고, 데이터의 노이즈를 줄이며, t-SNE나 UMAP의 결과를 개선하는 데 도움을 줄 수 있다.\n",
        "\n",
        "\n"
      ],
      "metadata": {
        "id": "TX3vU2-JEFti"
      }
    },
    {
      "cell_type": "code",
      "source": [
        "from sklearn.manifold import TSNE\n",
        "tsne = TSNE(n_components=2, perplexity=30.0, random_state=10, n_iter=250)\n",
        "train_tsne = tsne.fit_transform(train_pca)\n",
        "test_tsne = tsne.fit_transform(test_pca)\n",
        "print(train_tsne.shape, test_tsne.shape)"
      ],
      "metadata": {
        "id": "V4ZQu74KhqFF",
        "colab": {
          "base_uri": "https://localhost:8080/",
          "height": 406
        },
        "outputId": "36ab431d-60c6-4832-de29-1c7a7a9220a9"
      },
      "execution_count": 22,
      "outputs": [
        {
          "output_type": "error",
          "ename": "KeyboardInterrupt",
          "evalue": "",
          "traceback": [
            "\u001b[0;31m---------------------------------------------------------------------------\u001b[0m",
            "\u001b[0;31mKeyboardInterrupt\u001b[0m                         Traceback (most recent call last)",
            "\u001b[0;32m<ipython-input-22-10461bbbc0c9>\u001b[0m in \u001b[0;36m<cell line: 3>\u001b[0;34m()\u001b[0m\n\u001b[1;32m      1\u001b[0m \u001b[0;32mfrom\u001b[0m \u001b[0msklearn\u001b[0m\u001b[0;34m.\u001b[0m\u001b[0mmanifold\u001b[0m \u001b[0;32mimport\u001b[0m \u001b[0mTSNE\u001b[0m\u001b[0;34m\u001b[0m\u001b[0;34m\u001b[0m\u001b[0m\n\u001b[1;32m      2\u001b[0m \u001b[0mtsne\u001b[0m \u001b[0;34m=\u001b[0m \u001b[0mTSNE\u001b[0m\u001b[0;34m(\u001b[0m\u001b[0mn_components\u001b[0m\u001b[0;34m=\u001b[0m\u001b[0;36m2\u001b[0m\u001b[0;34m,\u001b[0m \u001b[0mperplexity\u001b[0m\u001b[0;34m=\u001b[0m\u001b[0;36m30.0\u001b[0m\u001b[0;34m,\u001b[0m \u001b[0mrandom_state\u001b[0m\u001b[0;34m=\u001b[0m\u001b[0;36m10\u001b[0m\u001b[0;34m,\u001b[0m \u001b[0mn_iter\u001b[0m\u001b[0;34m=\u001b[0m\u001b[0;36m250\u001b[0m\u001b[0;34m)\u001b[0m\u001b[0;34m\u001b[0m\u001b[0;34m\u001b[0m\u001b[0m\n\u001b[0;32m----> 3\u001b[0;31m \u001b[0mtrain_tsne\u001b[0m \u001b[0;34m=\u001b[0m \u001b[0mtsne\u001b[0m\u001b[0;34m.\u001b[0m\u001b[0mfit_transform\u001b[0m\u001b[0;34m(\u001b[0m\u001b[0mtrain_pca\u001b[0m\u001b[0;34m)\u001b[0m\u001b[0;34m\u001b[0m\u001b[0;34m\u001b[0m\u001b[0m\n\u001b[0m\u001b[1;32m      4\u001b[0m \u001b[0mtest_tsne\u001b[0m \u001b[0;34m=\u001b[0m \u001b[0mtsne\u001b[0m\u001b[0;34m.\u001b[0m\u001b[0mfit_transform\u001b[0m\u001b[0;34m(\u001b[0m\u001b[0mtest_pca\u001b[0m\u001b[0;34m)\u001b[0m\u001b[0;34m\u001b[0m\u001b[0;34m\u001b[0m\u001b[0m\n\u001b[1;32m      5\u001b[0m \u001b[0mprint\u001b[0m\u001b[0;34m(\u001b[0m\u001b[0mtrain_tsne\u001b[0m\u001b[0;34m.\u001b[0m\u001b[0mshape\u001b[0m\u001b[0;34m,\u001b[0m \u001b[0mtest_tsne\u001b[0m\u001b[0;34m.\u001b[0m\u001b[0mshape\u001b[0m\u001b[0;34m)\u001b[0m\u001b[0;34m\u001b[0m\u001b[0;34m\u001b[0m\u001b[0m\n",
            "\u001b[0;32m/usr/local/lib/python3.10/dist-packages/sklearn/manifold/_t_sne.py\u001b[0m in \u001b[0;36mfit_transform\u001b[0;34m(self, X, y)\u001b[0m\n\u001b[1;32m   1117\u001b[0m         \u001b[0mself\u001b[0m\u001b[0;34m.\u001b[0m\u001b[0m_validate_params\u001b[0m\u001b[0;34m(\u001b[0m\u001b[0;34m)\u001b[0m\u001b[0;34m\u001b[0m\u001b[0;34m\u001b[0m\u001b[0m\n\u001b[1;32m   1118\u001b[0m         \u001b[0mself\u001b[0m\u001b[0;34m.\u001b[0m\u001b[0m_check_params_vs_input\u001b[0m\u001b[0;34m(\u001b[0m\u001b[0mX\u001b[0m\u001b[0;34m)\u001b[0m\u001b[0;34m\u001b[0m\u001b[0;34m\u001b[0m\u001b[0m\n\u001b[0;32m-> 1119\u001b[0;31m         \u001b[0membedding\u001b[0m \u001b[0;34m=\u001b[0m \u001b[0mself\u001b[0m\u001b[0;34m.\u001b[0m\u001b[0m_fit\u001b[0m\u001b[0;34m(\u001b[0m\u001b[0mX\u001b[0m\u001b[0;34m)\u001b[0m\u001b[0;34m\u001b[0m\u001b[0;34m\u001b[0m\u001b[0m\n\u001b[0m\u001b[1;32m   1120\u001b[0m         \u001b[0mself\u001b[0m\u001b[0;34m.\u001b[0m\u001b[0membedding_\u001b[0m \u001b[0;34m=\u001b[0m \u001b[0membedding\u001b[0m\u001b[0;34m\u001b[0m\u001b[0;34m\u001b[0m\u001b[0m\n\u001b[1;32m   1121\u001b[0m         \u001b[0;32mreturn\u001b[0m \u001b[0mself\u001b[0m\u001b[0;34m.\u001b[0m\u001b[0membedding_\u001b[0m\u001b[0;34m\u001b[0m\u001b[0;34m\u001b[0m\u001b[0m\n",
            "\u001b[0;32m/usr/local/lib/python3.10/dist-packages/sklearn/manifold/_t_sne.py\u001b[0m in \u001b[0;36m_fit\u001b[0;34m(self, X, skip_num_points)\u001b[0m\n\u001b[1;32m   1010\u001b[0m         \u001b[0mdegrees_of_freedom\u001b[0m \u001b[0;34m=\u001b[0m \u001b[0mmax\u001b[0m\u001b[0;34m(\u001b[0m\u001b[0mself\u001b[0m\u001b[0;34m.\u001b[0m\u001b[0mn_components\u001b[0m \u001b[0;34m-\u001b[0m \u001b[0;36m1\u001b[0m\u001b[0;34m,\u001b[0m \u001b[0;36m1\u001b[0m\u001b[0;34m)\u001b[0m\u001b[0;34m\u001b[0m\u001b[0;34m\u001b[0m\u001b[0m\n\u001b[1;32m   1011\u001b[0m \u001b[0;34m\u001b[0m\u001b[0m\n\u001b[0;32m-> 1012\u001b[0;31m         return self._tsne(\n\u001b[0m\u001b[1;32m   1013\u001b[0m             \u001b[0mP\u001b[0m\u001b[0;34m,\u001b[0m\u001b[0;34m\u001b[0m\u001b[0;34m\u001b[0m\u001b[0m\n\u001b[1;32m   1014\u001b[0m             \u001b[0mdegrees_of_freedom\u001b[0m\u001b[0;34m,\u001b[0m\u001b[0;34m\u001b[0m\u001b[0;34m\u001b[0m\u001b[0m\n",
            "\u001b[0;32m/usr/local/lib/python3.10/dist-packages/sklearn/manifold/_t_sne.py\u001b[0m in \u001b[0;36m_tsne\u001b[0;34m(self, P, degrees_of_freedom, n_samples, X_embedded, neighbors, skip_num_points)\u001b[0m\n\u001b[1;32m   1062\u001b[0m         \u001b[0;31m# higher learning rate controlled via the early exaggeration parameter\u001b[0m\u001b[0;34m\u001b[0m\u001b[0;34m\u001b[0m\u001b[0m\n\u001b[1;32m   1063\u001b[0m         \u001b[0mP\u001b[0m \u001b[0;34m*=\u001b[0m \u001b[0mself\u001b[0m\u001b[0;34m.\u001b[0m\u001b[0mearly_exaggeration\u001b[0m\u001b[0;34m\u001b[0m\u001b[0;34m\u001b[0m\u001b[0m\n\u001b[0;32m-> 1064\u001b[0;31m         \u001b[0mparams\u001b[0m\u001b[0;34m,\u001b[0m \u001b[0mkl_divergence\u001b[0m\u001b[0;34m,\u001b[0m \u001b[0mit\u001b[0m \u001b[0;34m=\u001b[0m \u001b[0m_gradient_descent\u001b[0m\u001b[0;34m(\u001b[0m\u001b[0mobj_func\u001b[0m\u001b[0;34m,\u001b[0m \u001b[0mparams\u001b[0m\u001b[0;34m,\u001b[0m \u001b[0;34m**\u001b[0m\u001b[0mopt_args\u001b[0m\u001b[0;34m)\u001b[0m\u001b[0;34m\u001b[0m\u001b[0;34m\u001b[0m\u001b[0m\n\u001b[0m\u001b[1;32m   1065\u001b[0m         \u001b[0;32mif\u001b[0m \u001b[0mself\u001b[0m\u001b[0;34m.\u001b[0m\u001b[0mverbose\u001b[0m\u001b[0;34m:\u001b[0m\u001b[0;34m\u001b[0m\u001b[0;34m\u001b[0m\u001b[0m\n\u001b[1;32m   1066\u001b[0m             print(\n",
            "\u001b[0;32m/usr/local/lib/python3.10/dist-packages/sklearn/manifold/_t_sne.py\u001b[0m in \u001b[0;36m_gradient_descent\u001b[0;34m(objective, p0, it, n_iter, n_iter_check, n_iter_without_progress, momentum, learning_rate, min_gain, min_grad_norm, verbose, args, kwargs)\u001b[0m\n\u001b[1;32m    397\u001b[0m         \u001b[0mkwargs\u001b[0m\u001b[0;34m[\u001b[0m\u001b[0;34m\"compute_error\"\u001b[0m\u001b[0;34m]\u001b[0m \u001b[0;34m=\u001b[0m \u001b[0mcheck_convergence\u001b[0m \u001b[0;32mor\u001b[0m \u001b[0mi\u001b[0m \u001b[0;34m==\u001b[0m \u001b[0mn_iter\u001b[0m \u001b[0;34m-\u001b[0m \u001b[0;36m1\u001b[0m\u001b[0;34m\u001b[0m\u001b[0;34m\u001b[0m\u001b[0m\n\u001b[1;32m    398\u001b[0m \u001b[0;34m\u001b[0m\u001b[0m\n\u001b[0;32m--> 399\u001b[0;31m         \u001b[0merror\u001b[0m\u001b[0;34m,\u001b[0m \u001b[0mgrad\u001b[0m \u001b[0;34m=\u001b[0m \u001b[0mobjective\u001b[0m\u001b[0;34m(\u001b[0m\u001b[0mp\u001b[0m\u001b[0;34m,\u001b[0m \u001b[0;34m*\u001b[0m\u001b[0margs\u001b[0m\u001b[0;34m,\u001b[0m \u001b[0;34m**\u001b[0m\u001b[0mkwargs\u001b[0m\u001b[0;34m)\u001b[0m\u001b[0;34m\u001b[0m\u001b[0;34m\u001b[0m\u001b[0m\n\u001b[0m\u001b[1;32m    400\u001b[0m \u001b[0;34m\u001b[0m\u001b[0m\n\u001b[1;32m    401\u001b[0m         \u001b[0minc\u001b[0m \u001b[0;34m=\u001b[0m \u001b[0mupdate\u001b[0m \u001b[0;34m*\u001b[0m \u001b[0mgrad\u001b[0m \u001b[0;34m<\u001b[0m \u001b[0;36m0.0\u001b[0m\u001b[0;34m\u001b[0m\u001b[0;34m\u001b[0m\u001b[0m\n",
            "\u001b[0;32m/usr/local/lib/python3.10/dist-packages/sklearn/manifold/_t_sne.py\u001b[0m in \u001b[0;36m_kl_divergence_bh\u001b[0;34m(params, P, degrees_of_freedom, n_samples, n_components, angle, skip_num_points, verbose, compute_error, num_threads)\u001b[0m\n\u001b[1;32m    278\u001b[0m \u001b[0;34m\u001b[0m\u001b[0m\n\u001b[1;32m    279\u001b[0m     \u001b[0mgrad\u001b[0m \u001b[0;34m=\u001b[0m \u001b[0mnp\u001b[0m\u001b[0;34m.\u001b[0m\u001b[0mzeros\u001b[0m\u001b[0;34m(\u001b[0m\u001b[0mX_embedded\u001b[0m\u001b[0;34m.\u001b[0m\u001b[0mshape\u001b[0m\u001b[0;34m,\u001b[0m \u001b[0mdtype\u001b[0m\u001b[0;34m=\u001b[0m\u001b[0mnp\u001b[0m\u001b[0;34m.\u001b[0m\u001b[0mfloat32\u001b[0m\u001b[0;34m)\u001b[0m\u001b[0;34m\u001b[0m\u001b[0;34m\u001b[0m\u001b[0m\n\u001b[0;32m--> 280\u001b[0;31m     error = _barnes_hut_tsne.gradient(\n\u001b[0m\u001b[1;32m    281\u001b[0m         \u001b[0mval_P\u001b[0m\u001b[0;34m,\u001b[0m\u001b[0;34m\u001b[0m\u001b[0;34m\u001b[0m\u001b[0m\n\u001b[1;32m    282\u001b[0m         \u001b[0mX_embedded\u001b[0m\u001b[0;34m,\u001b[0m\u001b[0;34m\u001b[0m\u001b[0;34m\u001b[0m\u001b[0m\n",
            "\u001b[0;31mKeyboardInterrupt\u001b[0m: "
          ]
        }
      ]
    },
    {
      "cell_type": "code",
      "source": [
        "fig, axes = plt.subplots(1,2,figsize=(15,5))\n",
        "\n",
        "axes[0].set_title('t-SNE - train')\n",
        "for label in sorted(y_train.unique()):\n",
        "    axes[0].scatter(train_tsne[y_train == label, 0], train_tsne[y_train == label, 1], label='Class: {}'.format(label))\n",
        "\n",
        "axes[1].set_title('t-SNE - test')\n",
        "for label in sorted(y_test.unique()):\n",
        "    axes[1].scatter(test_tsne[y_test == label, 0], test_tsne[y_test == label, 1], label='Class: {}'.format(label))\n",
        "\n",
        "axes[0].legend(loc='upper right', bbox_to_anchor=(1.4, 1))\n",
        "axes[1].legend(loc='upper right', bbox_to_anchor=(1.4, 1))\n",
        "plt.tight_layout()\n",
        "plt.show()"
      ],
      "metadata": {
        "id": "pWCzV7D9PRzB"
      },
      "execution_count": null,
      "outputs": []
    },
    {
      "cell_type": "markdown",
      "source": [
        "## Dimensionality Reduction - UMAP"
      ],
      "metadata": {
        "id": "4fhi87ZEEloA"
      }
    },
    {
      "cell_type": "code",
      "source": [
        "!pip install umap-learn"
      ],
      "metadata": {
        "id": "vBlbISCdBMNA"
      },
      "execution_count": null,
      "outputs": []
    },
    {
      "cell_type": "code",
      "source": [
        "import umap\n",
        "umap_model = umap.UMAP(n_neighbors=15, n_components=2, min_dist=0.1, random_state=100)\n",
        "train_umap = umap_model.fit_transform(train_pca)\n",
        "test_umap = umap_model.transform(test_pca)\n",
        "print(train_umap.shape, test_umap.shape)"
      ],
      "metadata": {
        "id": "83mQV-Y3-GW7"
      },
      "execution_count": null,
      "outputs": []
    },
    {
      "cell_type": "code",
      "source": [
        "fig, axes = plt.subplots(1,2,figsize=(12,5))\n",
        "\n",
        "axes[0].set_title('UMAP - train')\n",
        "for label in sorted(y_train.unique()):\n",
        "    axes[0].scatter(train_umap[y_train == label, 0], train_umap[y_train == label, 1], label='Class: {}'.format(label))\n",
        "\n",
        "axes[1].set_title('UMAP - test')\n",
        "for label in sorted(y_test.unique()):\n",
        "    axes[1].scatter(test_umap[y_test == label, 0], test_umap[y_test == label, 1], label='Class: {}'.format(label))\n",
        "\n",
        "axes[0].legend(loc='upper right', bbox_to_anchor=(1.4, 1))\n",
        "axes[1].legend(loc='upper right', bbox_to_anchor=(1.4, 1))\n",
        "plt.tight_layout()\n",
        "plt.show()"
      ],
      "metadata": {
        "id": "ydLXG7FIedQg"
      },
      "execution_count": null,
      "outputs": []
    },
    {
      "cell_type": "code",
      "source": [
        "fig, axes = plt.subplots(1,3,figsize=(20,5))\n",
        "\n",
        "axes[0].set_title('PCA')\n",
        "for label in sorted(y_train.unique()):\n",
        "    axes[0].scatter(train_pca[y_train == label, 0], train_pca[y_train == label, 1], label='Class: {}'.format(label))\n",
        "\n",
        "axes[1].set_title('t-SNE')\n",
        "for label in sorted(y_train.unique()):\n",
        "    axes[1].scatter(train_tsne[y_train == label, 0], train_tsne[y_train == label, 1], label='Class: {}'.format(label))\n",
        "\n",
        "axes[2].set_title('UMAP')\n",
        "for label in sorted(y_train.unique()):\n",
        "    axes[2].scatter(train_umap[y_train == label, 0], train_umap[y_train == label, 1],label='Class: {}'.format(label))\n",
        "\n",
        "axes[0].legend(loc='upper right', bbox_to_anchor=(1.4, 1))\n",
        "axes[1].legend(loc='upper right', bbox_to_anchor=(1.4, 1))\n",
        "axes[2].legend(loc='upper right', bbox_to_anchor=(1.4, 1))\n",
        "\n",
        "plt.tight_layout()\n",
        "plt.show()"
      ],
      "metadata": {
        "id": "9mcDJRD5wqW4"
      },
      "execution_count": null,
      "outputs": []
    },
    {
      "cell_type": "code",
      "source": [
        "fig, axes = plt.subplots(1,3,figsize=(20,5))\n",
        "\n",
        "axes[0].set_title('PCA')\n",
        "for label in sorted(y_test.unique()):\n",
        "    axes[0].scatter(test_pca[y_test == label, 0], test_pca[y_test == label, 1], label='Class: {}'.format(label))\n",
        "\n",
        "axes[1].set_title('t-SNE')\n",
        "for label in sorted(y_test.unique()):\n",
        "    axes[1].scatter(test_tsne[y_test == label, 0], test_tsne[y_test == label, 1], label='Class: {}'.format(label))\n",
        "\n",
        "axes[2].set_title('UMAP')\n",
        "for label in sorted(y_test.unique()):\n",
        "    axes[2].scatter(test_umap[y_test == label, 0], test_umap[y_test == label, 1],label='Class: {}'.format(label))\n",
        "\n",
        "axes[0].legend(loc='upper right', bbox_to_anchor=(1.4, 1))\n",
        "axes[1].legend(loc='upper right', bbox_to_anchor=(1.4, 1))\n",
        "axes[2].legend(loc='upper right', bbox_to_anchor=(1.4, 1))\n",
        "\n",
        "plt.tight_layout()\n",
        "plt.show()"
      ],
      "metadata": {
        "id": "Znd9_mIdgoJn"
      },
      "execution_count": null,
      "outputs": []
    },
    {
      "cell_type": "markdown",
      "source": [
        "# Split Data"
      ],
      "metadata": {
        "id": "gqz1qqx3E9mY"
      }
    },
    {
      "cell_type": "code",
      "source": [
        "from sklearn.model_selection import train_test_split\n",
        "x_tr, x_val , y_tr, y_val = train_test_split(train_pca,y_train,test_size=0.2,random_state=1000)"
      ],
      "metadata": {
        "id": "75bdVoIIkWhi"
      },
      "execution_count": null,
      "outputs": []
    },
    {
      "cell_type": "markdown",
      "source": [
        "# RandomForest"
      ],
      "metadata": {
        "id": "qau-CxZao7mP"
      }
    },
    {
      "cell_type": "markdown",
      "source": [
        "Score는 PCA 처리 된것을  validation data로 나누어서 구한것이다.\n",
        "RandomForest는 하이퍼파라미터 튜닝을 GridSearch와 RandomSearch로 각각 진행했기때문에 시간이 너무 오래걸려서\n",
        "PCA로만 predict하였고 나머지 모델들은 PCA, t-SNE, UMAP 전부 각각 처리해서\n",
        "predict하였다. Confusion Matrix는 PCA로만 작성하였다.\n",
        "\n"
      ],
      "metadata": {
        "id": "0VFZDyLBzvMK"
      }
    },
    {
      "cell_type": "markdown",
      "source": [
        "#Score"
      ],
      "metadata": {
        "id": "zjMOTdk_woCe"
      }
    },
    {
      "cell_type": "code",
      "source": [
        "from sklearn.ensemble import RandomForestClassifier\n",
        "from sklearn.metrics import accuracy_score\n",
        "from sklearn.metrics import roc_auc_score\n",
        "from sklearn.metrics import f1_score\n",
        "from sklearn.metrics import recall_score\n",
        "from sklearn.metrics import precision_score\n",
        "from sklearn.metrics import confusion_matrix\n",
        "import matplotlib.pyplot as plt\n",
        "import seaborn as sns\n",
        "from sklearn.model_selection import GridSearchCV\n",
        "\n",
        "rf = RandomForestClassifier()\n",
        "rf.fit(x_tr,y_tr)\n",
        "val_pred_rf = rf.predict(x_val)\n",
        "val_pred_ratio_rf = rf.predict_proba(x_val)[:,1]\n",
        "\n",
        "print('accuracy_score: {}'.format(accuracy_score(y_val,val_pred_rf)))\n",
        "print('f1_score: {}'.format(f1_score(y_val,val_pred_rf)))\n",
        "print('recall_score: {}'.format(recall_score(y_val,val_pred_rf)))\n",
        "print('precision_score: {}'.format(precision_score(y_val,val_pred_rf)))\n",
        "print('roc_auc_score: {}'.format(roc_auc_score(y_val,val_pred_ratio_rf)))"
      ],
      "metadata": {
        "id": "folyezx0R_v9"
      },
      "execution_count": null,
      "outputs": []
    },
    {
      "cell_type": "markdown",
      "source": [
        "## Confusion Matrix"
      ],
      "metadata": {
        "id": "OyhvxMdeFQJa"
      }
    },
    {
      "cell_type": "code",
      "source": [
        "cm = confusion_matrix(y_val, val_pred_rf)\n",
        "sns.heatmap(cm, annot=True, fmt=\"d\", cmap=\"Blues\")\n",
        "plt.xlabel('Predicted labels')\n",
        "plt.ylabel('True labels')\n",
        "plt.title('Confusion Matrix')\n",
        "plt.show()"
      ],
      "metadata": {
        "id": "pKMJ5MVDFLd7"
      },
      "execution_count": null,
      "outputs": []
    },
    {
      "cell_type": "markdown",
      "source": [
        "#Tuning\n",
        "\n"
      ],
      "metadata": {
        "id": "Y7D4Zj9M1c20"
      }
    },
    {
      "cell_type": "markdown",
      "source": [
        "RandomSearch가 GridSearch보다 속도가 빠르다."
      ],
      "metadata": {
        "id": "xQVJTSn66gKs"
      }
    },
    {
      "cell_type": "markdown",
      "source": [
        "## GridSearch"
      ],
      "metadata": {
        "id": "iltpxZDW5rEI"
      }
    },
    {
      "cell_type": "code",
      "source": [
        "param_grid = {\n",
        "    'n_estimators': [1000, 500],\n",
        "    'max_depth': [11, 9, 7, 5],   # 16 많이 잡아도\n",
        "    'min_samples_split': [2, 5, 10],\n",
        "    'min_samples_leaf': [1, 2, 4],\n",
        "}\n",
        "# 리소스 최적화를 위해 random search로 수정 가능함\n",
        "rf = RandomForestClassifier()\n",
        "grid_search = GridSearchCV(rf, param_grid, cv=3, refit=True, verbose=2)\n",
        "grid_search.fit(train_pca, y_train)\n",
        "\n",
        "print(\"Best parameters found by Grid Search for Random Forest:\")\n",
        "print(grid_search.best_params_)"
      ],
      "metadata": {
        "id": "H_MkTcMV3n_H"
      },
      "execution_count": null,
      "outputs": []
    },
    {
      "cell_type": "markdown",
      "source": [
        "## Predict - PCA\n",
        "\n",
        "\n",
        "\n"
      ],
      "metadata": {
        "id": "5LQMaHXFFVru"
      }
    },
    {
      "cell_type": "code",
      "source": [
        "rf = RandomForestClassifier(max_depth=10,min_samples_leaf=2,min_samples_split=5,n_estimators=100)\n",
        "rf.fit(train_pca,y_train)\n",
        "rf_grid_pred = rf.predict(test_pca)\n",
        "print('accuracy_score : {}'.format(accuracy_score(y_test,rf_grid_pred)))\n",
        "df = pd.DataFrame({'pred':rf_grid_pred})\n",
        "df.to_csv('RandomForest_GridSearch.csv',index=False)\n",
        "df.head()"
      ],
      "metadata": {
        "id": "8tLTFplnUEOa"
      },
      "execution_count": null,
      "outputs": []
    },
    {
      "cell_type": "markdown",
      "source": [
        "## RandomSearch"
      ],
      "metadata": {
        "id": "iibUZfcb5kiN"
      }
    },
    {
      "cell_type": "code",
      "source": [
        "from sklearn.model_selection import RandomizedSearchCV\n",
        "from scipy.stats import randint\n",
        "\n",
        "param_dist = {\n",
        "    'n_estimators': randint(100, 300),\n",
        "    'max_depth': [10, 20, 30],\n",
        "    'min_samples_split': randint(2, 10),\n",
        "    'min_samples_leaf': randint(1, 10),\n",
        "}\n",
        "\n",
        "rf = RandomForestClassifier()\n",
        "random_search = RandomizedSearchCV(rf, param_distributions=param_dist, n_iter=100, cv=5, refit=True, verbose=2, random_state=42)\n",
        "random_search.fit(train_pca, y_train)\n",
        "\n",
        "print(\"Best parameters found by Random Search for Random Forest:\")\n",
        "print(random_search.best_params_)"
      ],
      "metadata": {
        "id": "CPJCCX_-4toU"
      },
      "execution_count": null,
      "outputs": []
    },
    {
      "cell_type": "markdown",
      "source": [
        "## Predict - PCA"
      ],
      "metadata": {
        "id": "e2ZBVfLT52uH"
      }
    },
    {
      "cell_type": "code",
      "source": [
        "rf = RandomForestClassifier(max_depth=20, min_samples_leaf=7, min_samples_split=2, n_estimators=171)\n",
        "rf.fit(train_pca,y_train)\n",
        "rf_random_pred = rf.predict(test_pca)\n",
        "df = pd.DataFrame({'pred':rf_random_pred})\n",
        "df.to_csv('RandomForest_RandomSearch.csv',index=False)\n",
        "df.head()"
      ],
      "metadata": {
        "id": "cespopdQ5FDS"
      },
      "execution_count": null,
      "outputs": []
    },
    {
      "cell_type": "markdown",
      "source": [
        "# XGBoost"
      ],
      "metadata": {
        "id": "QaxcsTEspM28"
      }
    },
    {
      "cell_type": "code",
      "source": [
        "!pip install xgboost"
      ],
      "metadata": {
        "id": "cPNBYOqvzHMG"
      },
      "execution_count": null,
      "outputs": []
    },
    {
      "cell_type": "markdown",
      "source": [
        "##Score"
      ],
      "metadata": {
        "id": "9X-phgzUGQso"
      }
    },
    {
      "cell_type": "code",
      "source": [
        "from xgboost import XGBClassifier\n",
        "xgb = XGBClassifier(n_estimators=1000, learning_rate=0.2, verbose = 100)\n",
        "xgb.fit(x_tr,y_tr)\n",
        "val_pred_xgb = xgb.predict(x_val)\n",
        "val_pred_ratio_xgb = xgb.predict_proba(x_val)[:,1]\n",
        "\n",
        "print('accuracy_score: {}'.format(accuracy_score(y_val,val_pred_xgb)))\n",
        "print('f1_score: {}'.format(f1_score(y_val,val_pred_xgb)))\n",
        "print('recall_score: {}'.format(recall_score(y_val,val_pred_xgb)))\n",
        "print('precision_score: {}'.format(precision_score(y_val,val_pred_xgb)))\n",
        "print('roc_auc_score: {}'.format(roc_auc_score(y_val,val_pred_ratio_xgb)))"
      ],
      "metadata": {
        "id": "y-aprG307_lI"
      },
      "execution_count": null,
      "outputs": []
    },
    {
      "cell_type": "markdown",
      "source": [
        "## Confusion Matrix"
      ],
      "metadata": {
        "id": "AnxmsjEKlIDg"
      }
    },
    {
      "cell_type": "code",
      "source": [
        "cm = confusion_matrix(y_val, val_pred_xgb)\n",
        "sns.heatmap(cm, annot=True, fmt=\"d\", cmap=\"Blues\")\n",
        "plt.xlabel('Predicted labels')\n",
        "plt.ylabel('True labels')\n",
        "plt.title('Confusion Matrix')\n",
        "plt.show()"
      ],
      "metadata": {
        "id": "rR6SVthIixEc"
      },
      "execution_count": null,
      "outputs": []
    },
    {
      "cell_type": "markdown",
      "source": [
        "## Predict - PCA"
      ],
      "metadata": {
        "id": "_GMycIeiGhvE"
      }
    },
    {
      "cell_type": "code",
      "source": [
        "xgb = XGBClassifier(n_estimators=1000, learning_rate=0.2, verbose = 100)\n",
        "xgb.fit(train_pca, y_train)\n",
        "xgb_pred_pca = xgb.predict(test_pca)\n",
        "print('accuracy_score : {}'.format(accuracy_score(y_test,xgb_pred_pca)))\n",
        "df = pd.DataFrame({'pred':xgb_pred_pca})\n",
        "df.to_csv('XGBoost_PCA.csv',index=False)\n",
        "df.head()"
      ],
      "metadata": {
        "id": "bHMjwvAc3crH"
      },
      "execution_count": null,
      "outputs": []
    },
    {
      "cell_type": "markdown",
      "source": [
        "##Predict - tSNE"
      ],
      "metadata": {
        "id": "wk5G9icdyTnz"
      }
    },
    {
      "cell_type": "code",
      "source": [
        "xgb = XGBClassifier(n_estimators=1000, learning_rate=0.2, verbose = 100)\n",
        "xgb.fit(train_tsne, y_train, eval_set=[(test_tsne, y_test)], early_stopping_rounds=100, verbose = 100)\n",
        "xgb_pred_tsne = xgb.predict(test_tsne)\n",
        "print('accuracy_score : {}'.format(accuracy_score(y_test,xgb_pred_tsne)))\n",
        "df = pd.DataFrame({'pred':xgb_pred_tsne})\n",
        "df.to_csv('XGBoost_tSNE.csv',index=False)\n",
        "df.head()"
      ],
      "metadata": {
        "id": "VdipWd2iySes"
      },
      "execution_count": null,
      "outputs": []
    },
    {
      "cell_type": "markdown",
      "source": [
        "##Predict - UMAP"
      ],
      "metadata": {
        "id": "nPRwiMpJyU6Y"
      }
    },
    {
      "cell_type": "code",
      "source": [
        "xgb = XGBClassifier(n_estimators=1000, learning_rate=0.2, verbose = 100)\n",
        "xgb.fit(train_umap, y_train, eval_set=[(test_umap, y_test)], early_stopping_rounds=100, verbose = 100)\n",
        "xgb_pred_umap = xgb.predict(test_umap)\n",
        "print('accuracy_score : {}'.format(accuracy_score(y_test,xgb_pred_umap)))\n",
        "df = pd.DataFrame({'pred':xgb_pred_umap})\n",
        "df.to_csv('XGBoost_UMAP.csv',index=False)\n",
        "df.head()"
      ],
      "metadata": {
        "id": "UFEzuVSlySQm"
      },
      "execution_count": null,
      "outputs": []
    },
    {
      "cell_type": "markdown",
      "source": [
        "#LightGBM"
      ],
      "metadata": {
        "id": "RvD5lO0eqRYO"
      }
    },
    {
      "cell_type": "code",
      "source": [
        "!pip install lightgbm"
      ],
      "metadata": {
        "id": "ku6sSIfUzC2X"
      },
      "execution_count": null,
      "outputs": []
    },
    {
      "cell_type": "markdown",
      "source": [
        "##Score"
      ],
      "metadata": {
        "id": "l4ye7RXGvoIm"
      }
    },
    {
      "cell_type": "code",
      "source": [
        "from lightgbm import LGBMClassifier\n",
        "lgb = LGBMClassifier(num_leaves=30, objective='binary')\n",
        "lgb.fit(x_tr, y_tr)\n",
        "val_pred_lgb = lgb.predict(x_val)\n",
        "val_pred_ratio_lgb = lgb.predict_proba(x_val)[:,1]\n",
        "\n",
        "print('accuracy_score: {}'.format(accuracy_score(y_val,val_pred_lgb)))\n",
        "print('f1_score: {}'.format(f1_score(y_val,val_pred_lgb)))\n",
        "print('recall_score: {}'.format(recall_score(y_val,val_pred_lgb)))\n",
        "print('precision_score: {}'.format(precision_score(y_val,val_pred_lgb)))\n",
        "print('roc_auc_score: {}'.format(roc_auc_score(y_val,val_pred_ratio_lgb)))"
      ],
      "metadata": {
        "id": "6KyRZQCaqQo1"
      },
      "execution_count": null,
      "outputs": []
    },
    {
      "cell_type": "markdown",
      "source": [
        "## Confusion Matrix"
      ],
      "metadata": {
        "id": "OTkSGYFDvuji"
      }
    },
    {
      "cell_type": "code",
      "source": [
        "cm = confusion_matrix(y_val, val_pred_xgb)\n",
        "sns.heatmap(cm, annot=True, fmt=\"d\", cmap=\"Blues\")\n",
        "plt.xlabel('Predicted labels')\n",
        "plt.ylabel('True labels')\n",
        "plt.title('Confusion Matrix')\n",
        "plt.show()"
      ],
      "metadata": {
        "id": "kQmqQeDBqdVe"
      },
      "execution_count": null,
      "outputs": []
    },
    {
      "cell_type": "markdown",
      "source": [
        "## Predict - PCA"
      ],
      "metadata": {
        "id": "6BaPllqMvy89"
      }
    },
    {
      "cell_type": "code",
      "source": [
        "lgb = LGBMClassifier(num_leaves=30, objective='binary')\n",
        "lgb.fit(train_pca,y_train)\n",
        "lgb_pred_pca = lgb.predict(test_pca)\n",
        "print('accuracy_score : {}'.format(accuracy_score(y_test,lgb_pred_pca)))\n",
        "df = pd.DataFrame({'pred':lgb_pred_pca})\n",
        "df.to_csv('LightGBM_PCA.csv',index=False)\n",
        "df.head()"
      ],
      "metadata": {
        "id": "pLo7psN5qdMf"
      },
      "execution_count": null,
      "outputs": []
    },
    {
      "cell_type": "markdown",
      "source": [
        "##Predict - tSNE"
      ],
      "metadata": {
        "id": "J7DcLdct3PgK"
      }
    },
    {
      "cell_type": "code",
      "source": [
        "lgb = LGBMClassifier(num_leaves=30, objective='binary')\n",
        "lgb.fit(train_tsne,y_train)\n",
        "lgb_pred_tsne = lgb.predict(test_tsne)\n",
        "print('accuracy_score : {}'.format(accuracy_score(y_test,lgb_pred_tsne)))\n",
        "df = pd.DataFrame({'pred':lgb_pred_tsne})\n",
        "df.to_csv('LightGBM_tSNE.csv',index=False)\n",
        "df.head()"
      ],
      "metadata": {
        "id": "KaVWcI3d3UWk"
      },
      "execution_count": null,
      "outputs": []
    },
    {
      "cell_type": "markdown",
      "source": [
        "##Predict - UMAP"
      ],
      "metadata": {
        "id": "A2vUS3mO3UvK"
      }
    },
    {
      "cell_type": "code",
      "source": [
        "lgb = LGBMClassifier(num_leaves=30, objective='binary')\n",
        "lgb.fit(train_umap,y_train)\n",
        "lgb_pred_umap = lgb.predict(test_umap)\n",
        "print('accuracy_score : {}'.format(accuracy_score(y_test,lgb_pred_umap)))\n",
        "df = pd.DataFrame({'pred':lgb_pred_umap})\n",
        "df.to_csv('LightGBM_UMAP.csv',index=False)\n",
        "df.head()"
      ],
      "metadata": {
        "id": "3EOaae8v3Yd2"
      },
      "execution_count": null,
      "outputs": []
    },
    {
      "cell_type": "markdown",
      "source": [
        "#CatBoost"
      ],
      "metadata": {
        "id": "SWXSSm5Wv26l"
      }
    },
    {
      "cell_type": "code",
      "source": [
        "!pip install catboost"
      ],
      "metadata": {
        "id": "4p0qQtNoy_J1"
      },
      "execution_count": null,
      "outputs": []
    },
    {
      "cell_type": "markdown",
      "source": [
        "##Score"
      ],
      "metadata": {
        "id": "NekEi8CRyXVo"
      }
    },
    {
      "cell_type": "code",
      "source": [
        "from catboost import CatBoostClassifier\n",
        "cb = CatBoostClassifier()\n",
        "cb.fit(x_tr,y_tr)\n",
        "val_pred_cb = cb.predict(x_val)\n",
        "val_pred_ratio_cb = cb.predict_proba(x_val)[:,1]\n",
        "print('accuracy_score: {}'.format(accuracy_score(y_val,val_pred_cb)))\n",
        "print('f1_score: {}'.format(f1_score(y_val,val_pred_cb)))\n",
        "print('recall_score: {}'.format(recall_score(y_val,val_pred_cb)))\n",
        "print('precision_score: {}'.format(precision_score(y_val,val_pred_cb)))\n",
        "print('roc_auc_score: {}'.format(roc_auc_score(y_val,val_pred_ratio_cb)))"
      ],
      "metadata": {
        "id": "0VwHdES6vloK"
      },
      "execution_count": null,
      "outputs": []
    },
    {
      "cell_type": "markdown",
      "source": [
        "##Confusion Matrix"
      ],
      "metadata": {
        "id": "nW-Ec5pkzWSJ"
      }
    },
    {
      "cell_type": "code",
      "source": [
        "cm = confusion_matrix(y_val, val_pred_cb)\n",
        "sns.heatmap(cm, annot=True, fmt=\"d\", cmap=\"Blues\")\n",
        "plt.xlabel('Predicted labels')\n",
        "plt.ylabel('True labels')\n",
        "plt.title('Confusion Matrix')\n",
        "plt.show()"
      ],
      "metadata": {
        "id": "yxpJ7S2ezVF-"
      },
      "execution_count": null,
      "outputs": []
    },
    {
      "cell_type": "markdown",
      "source": [
        "##Predict - PCA"
      ],
      "metadata": {
        "id": "xLQ5yMZpziRv"
      }
    },
    {
      "cell_type": "code",
      "source": [
        "cb = CatBoostClassifier()\n",
        "cb.fit(train_pca,y_train)\n",
        "cb_pred_pca = cb.predict(test_pca)\n",
        "print('accuracy_score : {}'.format(accuracy_score(y_test,cb_pred_pca)))\n",
        "df = pd.DataFrame({'pred':cb_pred_pca})\n",
        "df.to_csv('CatBoost_PCA.csv',index=False)\n",
        "df.head()"
      ],
      "metadata": {
        "id": "KIOvQgPzzVvY"
      },
      "execution_count": null,
      "outputs": []
    },
    {
      "cell_type": "markdown",
      "source": [
        "##Predict - tSNE"
      ],
      "metadata": {
        "id": "uIuwZUh539fw"
      }
    },
    {
      "cell_type": "code",
      "source": [
        "cb = CatBoostClassifier()\n",
        "cb.fit(train_tsne,y_train, eval_set=(test_tsne, y_test), use_best_model=True)\n",
        "cb_pred_tsne = cb.predict(test_tsne)\n",
        "print('accuracy_score : {}'.format(accuracy_score(y_test,cb_pred_tsne)))\n",
        "df = pd.DataFrame({'pred':cb_pred_tsne})\n",
        "df.to_csv('CatBoost_tSNE.csv',index=False)\n",
        "df.head()"
      ],
      "metadata": {
        "id": "U_eVPuz54A0N"
      },
      "execution_count": null,
      "outputs": []
    },
    {
      "cell_type": "markdown",
      "source": [
        "##Predict - UMAP"
      ],
      "metadata": {
        "id": "GexKEYxm4BKo"
      }
    },
    {
      "cell_type": "code",
      "source": [
        "cb = CatBoostClassifier()\n",
        "cb.fit(train_umap,y_train, eval_set=(test_umap, y_test), use_best_model=True)\n",
        "cb_pred_umap = cb.predict(test_umap)\n",
        "print('accuracy_score : {}'.format(accuracy_score(y_test,cb_pred_umap)))\n",
        "df = pd.DataFrame({'pred':cb_pred_umap})\n",
        "df.to_csv('CatBoost_UMAP.csv',index=False)\n",
        "df.head()"
      ],
      "metadata": {
        "id": "g7HNbvtb4D__"
      },
      "execution_count": null,
      "outputs": []
    },
    {
      "cell_type": "markdown",
      "source": [
        "# TensorFlow - PCA"
      ],
      "metadata": {
        "id": "TAwTCIk1OD06"
      }
    },
    {
      "cell_type": "code",
      "source": [
        "import tensorflow as tf\n",
        "\n",
        "model = tf.keras.Sequential([\n",
        "    tf.keras.layers.Dense(16, activation='relu', input_shape=(2,)),\n",
        "    tf.keras.layers.Dense(16, activation='relu'),\n",
        "    tf.keras.layers.Dense(2, activation='sigmoid')\n",
        "])\n",
        "\n",
        "model.compile(optimizer='adam',\n",
        "              loss='sparse_categorical_crossentropy',\n",
        "              metrics=['accuracy'])\n",
        "\n",
        "model.fit(train_pca, y_train, epochs=10, batch_size=32, validation_split=0.2)\n",
        "y_pred = model.predict(test_pca)\n",
        "y_pred.shape"
      ],
      "metadata": {
        "id": "qKZMWfmsNfK7"
      },
      "execution_count": null,
      "outputs": []
    },
    {
      "cell_type": "code",
      "source": [
        "y_pred"
      ],
      "metadata": {
        "id": "03-7ATxjNKCa"
      },
      "execution_count": null,
      "outputs": []
    },
    {
      "cell_type": "code",
      "source": [
        "y_pred_agmx_pca = tf.argmax(y_pred, axis=1)"
      ],
      "metadata": {
        "id": "ym7Dvvt0NJzt"
      },
      "execution_count": null,
      "outputs": []
    },
    {
      "cell_type": "code",
      "source": [
        "print('accuracy_score : {}'.format(accuracy_score(y_test,y_pred_agmx_pca)))"
      ],
      "metadata": {
        "id": "GjfzuNcUNMss"
      },
      "execution_count": null,
      "outputs": []
    },
    {
      "cell_type": "code",
      "source": [
        "df = pd.DataFrame({'pred': y_pred_agmx_pca})\n",
        "df.to_csv('PCA_Tensorflow.csv',index=False)\n",
        "df.head()"
      ],
      "metadata": {
        "id": "xsQOIUUcNMLn"
      },
      "execution_count": null,
      "outputs": []
    },
    {
      "cell_type": "markdown",
      "source": [
        "#TensorFlow - tSNE"
      ],
      "metadata": {
        "id": "WWlon_IgOxDj"
      }
    },
    {
      "cell_type": "code",
      "source": [
        "import tensorflow as tf\n",
        "\n",
        "model = tf.keras.Sequential([\n",
        "    tf.keras.layers.Dense(16, activation='relu', input_shape=(2,)),\n",
        "    tf.keras.layers.Dense(16, activation='relu'),\n",
        "    tf.keras.layers.Dense(2, activation='sigmoid')\n",
        "])\n",
        "\n",
        "model.compile(optimizer='adam',\n",
        "              loss='sparse_categorical_crossentropy',\n",
        "              metrics=['accuracy'])\n",
        "\n",
        "model.fit(train_tsne, y_train, epochs=10, batch_size=32, validation_split=0.2)\n",
        "y_pred = model.predict(test_tsne)\n",
        "y_pred.shape"
      ],
      "metadata": {
        "id": "Thmok9-5Oxnj"
      },
      "execution_count": null,
      "outputs": []
    },
    {
      "cell_type": "code",
      "source": [
        "y_pred"
      ],
      "metadata": {
        "id": "_-i5C9eKO2BC"
      },
      "execution_count": null,
      "outputs": []
    },
    {
      "cell_type": "code",
      "source": [
        "y_pred_agmx_tsne = tf.argmax(y_pred, axis=1)"
      ],
      "metadata": {
        "id": "IQ90zlHTO3P2"
      },
      "execution_count": null,
      "outputs": []
    },
    {
      "cell_type": "code",
      "source": [
        "print('accuracy_score : {}'.format(accuracy_score(y_test,y_pred_agmx_tsne)))"
      ],
      "metadata": {
        "id": "om1xJaJ6O55E"
      },
      "execution_count": null,
      "outputs": []
    },
    {
      "cell_type": "code",
      "source": [
        "df = pd.DataFrame({'pred': y_pred_agmx_tsne})\n",
        "df.to_csv('t-SNE_Tensorflow.csv',index=False)\n",
        "df.head()"
      ],
      "metadata": {
        "id": "DgW00RmRO-o4"
      },
      "execution_count": null,
      "outputs": []
    },
    {
      "cell_type": "markdown",
      "source": [
        "#Tensorflow - UMAP"
      ],
      "metadata": {
        "id": "3Rt2In0KPAqH"
      }
    },
    {
      "cell_type": "code",
      "source": [
        "import tensorflow as tf\n",
        "\n",
        "model = tf.keras.Sequential([\n",
        "    tf.keras.layers.Dense(16, activation='relu', input_shape=(2,)),\n",
        "    tf.keras.layers.Dense(16, activation='relu'),\n",
        "    tf.keras.layers.Dense(2, activation='sigmoid')\n",
        "])\n",
        "\n",
        "model.compile(optimizer='adam',\n",
        "              loss='sparse_categorical_crossentropy',\n",
        "              metrics=['accuracy'])\n",
        "\n",
        "model.fit(train_umap, y_train, epochs=10, batch_size=32, validation_split=0.2)\n",
        "y_pred = model.predict(test_umap)\n",
        "y_pred.shape"
      ],
      "metadata": {
        "id": "TIK4B7VXPCZ9"
      },
      "execution_count": null,
      "outputs": []
    },
    {
      "cell_type": "code",
      "source": [
        "y_pred"
      ],
      "metadata": {
        "id": "CmlEwJTfPFIC"
      },
      "execution_count": null,
      "outputs": []
    },
    {
      "cell_type": "code",
      "source": [
        "y_pred_agmx_umap = tf.argmax(y_pred, axis=1)"
      ],
      "metadata": {
        "id": "D3kNv--hPE9d"
      },
      "execution_count": null,
      "outputs": []
    },
    {
      "cell_type": "code",
      "source": [
        "print('accuracy_score : {}'.format(accuracy_score(y_test,y_pred_agmx_umap)))"
      ],
      "metadata": {
        "id": "7oYou1W_PE0W"
      },
      "execution_count": null,
      "outputs": []
    },
    {
      "cell_type": "code",
      "source": [
        "df = pd.DataFrame({'pred': y_pred_agmx_umap})\n",
        "df.to_csv('UMAP_Tensorflow.csv',index=False)\n",
        "df.head()"
      ],
      "metadata": {
        "id": "tbME7diHPNqM"
      },
      "execution_count": null,
      "outputs": []
    },
    {
      "cell_type": "markdown",
      "source": [
        "#Pytorch - PCA"
      ],
      "metadata": {
        "id": "8wjpgiiURZbW"
      }
    },
    {
      "cell_type": "code",
      "source": [
        "import torch\n",
        "import torch.nn as nn\n",
        "import torch.optim as optim\n",
        "from torch.utils.data import DataLoader, TensorDataset\n",
        "\n",
        "X_train_tensor = torch.tensor(train_pca, dtype=torch.float32)\n",
        "y_train_tensor = torch.tensor(y_train.values, dtype=torch.long)\n",
        "X_test_tensor = torch.tensor(test_pca, dtype=torch.float32)\n",
        "y_test_tensor = torch.tensor(y_test.values, dtype=torch.long)\n",
        "\n",
        "train_dataset = TensorDataset(X_train_tensor, y_train_tensor)\n",
        "test_dataset = TensorDataset(X_test_tensor, y_test_tensor)\n",
        "train_loader = DataLoader(train_dataset, batch_size=64, shuffle=True)\n",
        "test_loader = DataLoader(test_dataset, batch_size=64, shuffle=False)\n",
        "\n",
        "class CreditCardNN(nn.Module):\n",
        "    def __init__(self):\n",
        "        super(CreditCardNN, self).__init__()\n",
        "        self.layer1 = nn.Linear(X_train_tensor.shape[1], 128)\n",
        "        self.layer2 = nn.Linear(128, 64)\n",
        "        self.layer3 = nn.Linear(64, 2)\n",
        "\n",
        "    def forward(self, x):\n",
        "        x = torch.relu(self.layer1(x))\n",
        "        x = torch.relu(self.layer2(x))\n",
        "        x = self.layer3(x)\n",
        "        return x\n",
        "\n",
        "model = CreditCardNN()\n",
        "criterion = nn.CrossEntropyLoss()\n",
        "optimizer = optim.Adam(model.parameters(), lr=0.001)\n",
        "\n",
        "num_epochs = 10\n",
        "for epoch in range(num_epochs):\n",
        "    model.train()\n",
        "    for X_batch, y_batch in train_loader:\n",
        "        optimizer.zero_grad()\n",
        "        outputs = model(X_batch)\n",
        "        loss = criterion(outputs, y_batch)\n",
        "        loss.backward()\n",
        "        optimizer.step()\n",
        "    print(f\"Epoch {epoch+1}/{num_epochs}, Loss: {loss.item()}\")\n",
        "\n",
        "model.eval()\n",
        "y_pred_list = []\n",
        "with torch.no_grad():\n",
        "    for X_batch, _ in test_loader:\n",
        "        outputs = model(X_batch)\n",
        "        _, y_pred = torch.max(outputs, 1)\n",
        "        y_pred_list.append(y_pred)\n",
        "\n",
        "y_pred_tensor = torch.cat(y_pred_list)\n",
        "pth_y_pred_pca = y_pred_tensor.cpu().numpy()\n",
        "\n",
        "accuracy = accuracy_score(y_test, pth_y_pred_pca)\n",
        "print('accuracy: {}'.format(accuracy))"
      ],
      "metadata": {
        "id": "RrLsrumhRRlX"
      },
      "execution_count": null,
      "outputs": []
    },
    {
      "cell_type": "code",
      "source": [
        "df = pd.DataFrame({'pred':pth_y_pred_pca})\n",
        "df.to_csv('PCA_Pytorch.csv',index=False)\n",
        "df.head()"
      ],
      "metadata": {
        "id": "AUyZXQndSQmw"
      },
      "execution_count": null,
      "outputs": []
    },
    {
      "cell_type": "markdown",
      "source": [
        "#Pytorch - tSNE"
      ],
      "metadata": {
        "id": "y-VjcltpRo5O"
      }
    },
    {
      "cell_type": "code",
      "source": [
        "import torch\n",
        "import torch.nn as nn\n",
        "import torch.optim as optim\n",
        "from torch.utils.data import DataLoader, TensorDataset\n",
        "\n",
        "X_train_tensor = torch.tensor(train_tsne, dtype=torch.float32)\n",
        "y_train_tensor = torch.tensor(y_train.values, dtype=torch.long)\n",
        "X_test_tensor = torch.tensor(test_tsne, dtype=torch.float32)\n",
        "y_test_tensor = torch.tensor(y_test.values, dtype=torch.long)\n",
        "\n",
        "train_dataset = TensorDataset(X_train_tensor, y_train_tensor)\n",
        "test_dataset = TensorDataset(X_test_tensor, y_test_tensor)\n",
        "train_loader = DataLoader(train_dataset, batch_size=64, shuffle=True)\n",
        "test_loader = DataLoader(test_dataset, batch_size=64, shuffle=False)\n",
        "\n",
        "class CreditCardNN(nn.Module):\n",
        "    def __init__(self):\n",
        "        super(CreditCardNN, self).__init__()\n",
        "        self.layer1 = nn.Linear(X_train_tensor.shape[1], 128)\n",
        "        self.layer2 = nn.Linear(128, 64)\n",
        "        self.layer3 = nn.Linear(64, 2)\n",
        "\n",
        "    def forward(self, x):\n",
        "        x = torch.relu(self.layer1(x))\n",
        "        x = torch.relu(self.layer2(x))\n",
        "        x = self.layer3(x)\n",
        "        return x\n",
        "\n",
        "model = CreditCardNN()\n",
        "criterion = nn.CrossEntropyLoss()\n",
        "optimizer = optim.Adam(model.parameters(), lr=0.001)\n",
        "\n",
        "num_epochs = 10\n",
        "for epoch in range(num_epochs):\n",
        "    model.train()\n",
        "    for X_batch, y_batch in train_loader:\n",
        "        optimizer.zero_grad()\n",
        "        outputs = model(X_batch)\n",
        "        loss = criterion(outputs, y_batch)\n",
        "        loss.backward()\n",
        "        optimizer.step()\n",
        "    print(f\"Epoch {epoch+1}/{num_epochs}, Loss: {loss.item()}\")\n",
        "\n",
        "model.eval()\n",
        "y_pred_list = []\n",
        "with torch.no_grad():\n",
        "    for X_batch, _ in test_loader:\n",
        "        outputs = model(X_batch)\n",
        "        _, y_pred = torch.max(outputs, 1)\n",
        "        y_pred_list.append(y_pred)\n",
        "\n",
        "y_pred_tensor = torch.cat(y_pred_list)\n",
        "pth_y_pred_tsne = y_pred_tensor.cpu().numpy()\n",
        "\n",
        "accuracy = accuracy_score(y_test, pth_y_pred_tsne)\n",
        "print('accuracy: {}'.format(accuracy))"
      ],
      "metadata": {
        "id": "mt_vRn7nRswM"
      },
      "execution_count": null,
      "outputs": []
    },
    {
      "cell_type": "code",
      "source": [
        "df = pd.DataFrame({'pred':pth_y_pred_tsne})\n",
        "df.to_csv('t-SNE_Pytorch.csv',index=False)\n",
        "df.head()"
      ],
      "metadata": {
        "id": "2Q8GpQYvR1Zq"
      },
      "execution_count": null,
      "outputs": []
    },
    {
      "cell_type": "markdown",
      "source": [
        "#Pytorch - UMAP"
      ],
      "metadata": {
        "id": "_UHjxdcQR1wi"
      }
    },
    {
      "cell_type": "code",
      "source": [
        "import torch\n",
        "import torch.nn as nn\n",
        "import torch.optim as optim\n",
        "from torch.utils.data import DataLoader, TensorDataset\n",
        "\n",
        "X_train_tensor = torch.tensor(train_umap, dtype=torch.float32)\n",
        "y_train_tensor = torch.tensor(y_train.values, dtype=torch.long)\n",
        "X_test_tensor = torch.tensor(test_umap, dtype=torch.float32)\n",
        "y_test_tensor = torch.tensor(y_test.values, dtype=torch.long)\n",
        "\n",
        "train_dataset = TensorDataset(X_train_tensor, y_train_tensor)\n",
        "test_dataset = TensorDataset(X_test_tensor, y_test_tensor)\n",
        "train_loader = DataLoader(train_dataset, batch_size=64, shuffle=True)\n",
        "test_loader = DataLoader(test_dataset, batch_size=64, shuffle=False)\n",
        "\n",
        "class CreditCardNN(nn.Module):\n",
        "    def __init__(self):\n",
        "        super(CreditCardNN, self).__init__()\n",
        "        self.layer1 = nn.Linear(X_train_tensor.shape[1], 128)\n",
        "        self.layer2 = nn.Linear(128, 64)\n",
        "        self.layer3 = nn.Linear(64, 2)\n",
        "\n",
        "    def forward(self, x):\n",
        "        x = torch.relu(self.layer1(x))\n",
        "        x = torch.relu(self.layer2(x))\n",
        "        x = self.layer3(x)\n",
        "        return x\n",
        "\n",
        "model = CreditCardNN()\n",
        "criterion = nn.CrossEntropyLoss()\n",
        "optimizer = optim.Adam(model.parameters(), lr=0.001)\n",
        "\n",
        "num_epochs = 10\n",
        "for epoch in range(num_epochs):\n",
        "    model.train()\n",
        "    for X_batch, y_batch in train_loader:\n",
        "        optimizer.zero_grad()\n",
        "        outputs = model(X_batch)\n",
        "        loss = criterion(outputs, y_batch)\n",
        "        loss.backward()\n",
        "        optimizer.step()\n",
        "    print(f\"Epoch {epoch+1}/{num_epochs}, Loss: {loss.item()}\")\n",
        "\n",
        "model.eval()\n",
        "y_pred_list = []\n",
        "with torch.no_grad():\n",
        "    for X_batch, _ in test_loader:\n",
        "        outputs = model(X_batch)\n",
        "        _, y_pred = torch.max(outputs, 1)\n",
        "        y_pred_list.append(y_pred)\n",
        "\n",
        "y_pred_tensor = torch.cat(y_pred_list)\n",
        "pth_y_pred_umap = y_pred_tensor.cpu().numpy()\n",
        "\n",
        "accuracy = accuracy_score(y_test, pth_y_pred_umap)\n",
        "print('accuracy: {}'.format(accuracy))"
      ],
      "metadata": {
        "id": "Xk0CPl-jR6fF"
      },
      "execution_count": null,
      "outputs": []
    },
    {
      "cell_type": "code",
      "source": [
        "df = pd.DataFrame({'pred':pth_y_pred_umap})\n",
        "df.to_csv('UMAP_Pytorch.csv',index=False)\n",
        "df.head()"
      ],
      "metadata": {
        "id": "G042U3RyR6QJ"
      },
      "execution_count": null,
      "outputs": []
    },
    {
      "cell_type": "markdown",
      "source": [
        "## Compare"
      ],
      "metadata": {
        "id": "2KRBeSNeSXjE"
      }
    },
    {
      "cell_type": "code",
      "source": [
        "df = pd.DataFrame({\n",
        "    'Model': ['RF_GS_PCA', 'RF_RS_PCA', 'XGB_PCA', 'LGBM_PCA', 'CB_PCA', 'Tensorflow_PCA', 'Pytorch_PCA',\n",
        "              'XGB_tSNE', 'LGBM_tSNE', 'CB_tSNE', 'Tensorflow_tSNE', 'Pytorch_tSNE', 'XGB_UMAP', 'LGBM_UMAP',\n",
        "              'CB_UMAP', 'Tensorflow_UMAP', 'Pytorch_UMAP'],\n",
        "    'Score': [accuracy_score(y_test, rf_grid_pred), accuracy_score(y_test, rf_random_pred), accuracy_score(y_test, xgb_pred_pca),\n",
        "              accuracy_score(y_test, lgb_pred_pca), accuracy_score(y_test, cb_pred_pca), accuracy_score(y_test, y_pred_agmx_pca),\n",
        "              accuracy_score(y_test, pth_y_pred_pca), accuracy_score(y_test, xgb_pred_tsne), accuracy_score(y_test, lgb_pred_tsne),\n",
        "              accuracy_score(y_test, cb_pred_tsne), accuracy_score(y_test, y_pred_agmx_tsne), accuracy_score(y_test, pth_y_pred_tsne),\n",
        "              accuracy_score(y_test, xgb_pred_umap), accuracy_score(y_test, lgb_pred_umap), accuracy_score(y_test, cb_pred_umap),\n",
        "              accuracy_score(y_test, y_pred_agmx_umap), accuracy_score(y_test, pth_y_pred_umap)]\n",
        "})\n",
        "df.sort_values(by='Score',ascending=False)"
      ],
      "metadata": {
        "id": "Vt5genJKSZQN"
      },
      "execution_count": null,
      "outputs": []
    },
    {
      "cell_type": "markdown",
      "source": [
        "# Augmentation - SMOTE"
      ],
      "metadata": {
        "id": "kX_nIli-M4H4"
      }
    },
    {
      "cell_type": "code",
      "source": [
        "!pip install xgboost\n",
        "!pip install lightgbm\n",
        "!pip install catboost\n",
        "from sklearn.ensemble import RandomForestClassifier\n",
        "from xgboost import XGBClassifier\n",
        "from lightgbm import LGBMClassifier\n",
        "from catboost import CatBoostClassifier\n",
        "from sklearn.metrics import accuracy_score"
      ],
      "metadata": {
        "id": "g5iPmBIL56CO"
      },
      "execution_count": null,
      "outputs": []
    },
    {
      "cell_type": "code",
      "source": [
        "from imblearn.over_sampling import SMOTE\n",
        "smt = SMOTE(sampling_strategy=0.3)\n",
        "x_st, y_st = smt.fit_resample(train_scaled_df, y_train)"
      ],
      "metadata": {
        "id": "6ejmbKiYiz1-"
      },
      "execution_count": null,
      "outputs": []
    },
    {
      "cell_type": "markdown",
      "source": [
        "##Predict - RandomForest"
      ],
      "metadata": {
        "id": "wNrm-UoW3aej"
      }
    },
    {
      "cell_type": "code",
      "source": [
        "rf = RandomForestClassifier()\n",
        "rf.fit(x_st,y_st)\n",
        "y_pred_rf_st = rf.predict(test_scaled_df)\n",
        "print('accuracy_score : {}'.format(accuracy_score(y_test,y_pred_rf_st)))"
      ],
      "metadata": {
        "id": "CogxFrZR3aAN"
      },
      "execution_count": null,
      "outputs": []
    },
    {
      "cell_type": "code",
      "source": [
        "df = pd.DataFrame({'pred':y_pred_rf_st})\n",
        "df.to_csv('SMOTE_RandomForest.csv',index=False)\n",
        "df.head()"
      ],
      "metadata": {
        "id": "RlxStF5G3Z4b"
      },
      "execution_count": null,
      "outputs": []
    },
    {
      "cell_type": "markdown",
      "source": [
        "#Predict - XGBoost"
      ],
      "metadata": {
        "id": "7795dYOV4H3S"
      }
    },
    {
      "cell_type": "code",
      "source": [
        "xgb = XGBClassifier(n_estimators=1000, learning_rate=0.2, verbose = 100)\n",
        "xgb.fit(x_st,y_st, eval_set=[(test_scaled_df, y_test)], early_stopping_rounds=100)\n",
        "y_pred_xgb_st = xgb.predict(test_scaled_df)\n",
        "print('accuracy_score : {}'.format(accuracy_score(y_test,y_pred_xgb_st)))"
      ],
      "metadata": {
        "id": "qw5I44wj3Yn2"
      },
      "execution_count": null,
      "outputs": []
    },
    {
      "cell_type": "code",
      "source": [
        "df = pd.DataFrame({'pred':y_pred_xgb_st})\n",
        "df.to_csv('SMOTE_XGBoost.csv',index=False)\n",
        "df.head()"
      ],
      "metadata": {
        "id": "dGJGXeot4Tig"
      },
      "execution_count": null,
      "outputs": []
    },
    {
      "cell_type": "markdown",
      "source": [
        "## Predict- LightGBM"
      ],
      "metadata": {
        "id": "GCk3rPI_mXcy"
      }
    },
    {
      "cell_type": "code",
      "source": [
        "from lightgbm import LGBMClassifier\n",
        "lgbm = LGBMClassifier(num_leaves=30, objective='binary')\n",
        "lgbm.fit(x_st, y_st)\n",
        "y_pred_lgbm_st = lgbm.predict(test_scaled_df)\n",
        "print('accuracy_score : {}'.format(accuracy_score(y_test,y_pred_lgbm_st)))"
      ],
      "metadata": {
        "id": "pWlUaewOmWnI"
      },
      "execution_count": null,
      "outputs": []
    },
    {
      "cell_type": "code",
      "source": [
        "df = pd.DataFrame({'pred':y_pred_lgbm_st})\n",
        "df.to_csv('SMOTE_LightGBM.csv',index=False)\n",
        "df.head()"
      ],
      "metadata": {
        "id": "hDn3PGOq3aNO"
      },
      "execution_count": null,
      "outputs": []
    },
    {
      "cell_type": "markdown",
      "source": [
        "##Predict - CatBoost"
      ],
      "metadata": {
        "id": "nAHtux4i3PWC"
      }
    },
    {
      "cell_type": "code",
      "source": [
        "from catboost import CatBoostClassifier\n",
        "catboost_model = CatBoostClassifier()\n",
        "catboost_model.fit(\n",
        "    x_st, y_st,\n",
        "    eval_set=(test_scaled_df, y_test),\n",
        "    early_stopping_rounds=10\n",
        ")\n",
        "y_pred_cb_st = catboost_model.predict(test_scaled_df)\n",
        "print('accuracy_score : {}'.format(accuracy_score(y_test,y_pred_cb_st)))"
      ],
      "metadata": {
        "id": "YBhnFAYk4DHu"
      },
      "execution_count": null,
      "outputs": []
    },
    {
      "cell_type": "code",
      "source": [
        "df = pd.DataFrame({'pred':y_pred_cb_st})\n",
        "df.to_csv('SMOTE_CatBoost.csv',index=False)\n",
        "df.head()"
      ],
      "metadata": {
        "id": "lXfUV-7oBXL7"
      },
      "execution_count": null,
      "outputs": []
    },
    {
      "cell_type": "markdown",
      "source": [
        "#Augmentation - BorderLineSMOTE"
      ],
      "metadata": {
        "id": "e4D9UQIVl68r"
      }
    },
    {
      "cell_type": "code",
      "source": [
        "from imblearn.over_sampling import BorderlineSMOTE\n",
        "bdsmt = BorderlineSMOTE(sampling_strategy=0.3, n_jobs=-1)\n",
        "x_border, y_border = bdsmt.fit_resample(train_scaled_df, y_train)"
      ],
      "metadata": {
        "id": "dNarYZsEl6jC"
      },
      "execution_count": null,
      "outputs": []
    },
    {
      "cell_type": "markdown",
      "source": [
        "#Predict - RandomForest"
      ],
      "metadata": {
        "id": "dV4DPU7X--ao"
      }
    },
    {
      "cell_type": "code",
      "source": [
        "rf = RandomForestClassifier()\n",
        "rf.fit(x_border,y_border)\n",
        "y_pred_rf_bl = rf.predict(test_scaled_df)\n",
        "print('accuracy_score : {}'.format(accuracy_score(y_test,y_pred_rf_bl)))"
      ],
      "metadata": {
        "id": "0WyuSIWh_QA7"
      },
      "execution_count": null,
      "outputs": []
    },
    {
      "cell_type": "code",
      "source": [
        "df = pd.DataFrame({'pred':y_pred_rf_bl})\n",
        "df.to_csv('BLS_RandomForest.csv',index=False)\n",
        "df.head()"
      ],
      "metadata": {
        "id": "o6cHaubi_mgn"
      },
      "execution_count": null,
      "outputs": []
    },
    {
      "cell_type": "markdown",
      "source": [
        "#Predict - XGBoost"
      ],
      "metadata": {
        "id": "OCQ-Kuz2_G8X"
      }
    },
    {
      "cell_type": "code",
      "source": [
        "xgb = XGBClassifier(n_estimators=1000, learning_rate=0.2, verbose = 100)\n",
        "xgb.fit(x_border,y_border, eval_set=[(test_scaled_df, y_test)], early_stopping_rounds=100)\n",
        "y_pred_xgb_bl = xgb.predict(test_scaled_df)\n",
        "print('accuracy_score : {}'.format(accuracy_score(y_test,y_pred_xgb_bl)))"
      ],
      "metadata": {
        "id": "XqNH9Mea_Qy3"
      },
      "execution_count": null,
      "outputs": []
    },
    {
      "cell_type": "code",
      "source": [
        "df = pd.DataFrame({'pred':y_pred_xgb_bl})\n",
        "df.to_csv('BLS_XGBoost.csv',index=False)\n",
        "df.head()"
      ],
      "metadata": {
        "id": "zUT-XXc__qVj"
      },
      "execution_count": null,
      "outputs": []
    },
    {
      "cell_type": "markdown",
      "source": [
        "## Predict - LightGBM"
      ],
      "metadata": {
        "id": "fJwucouC9nb9"
      }
    },
    {
      "cell_type": "code",
      "source": [
        "from lightgbm import LGBMClassifier\n",
        "lgbm_model = LGBMClassifier(num_leaves=30, objective='binary')\n",
        "lgbm_model.fit(x_border, y_border)\n",
        "y_pred_lgbm_bl = lgbm_model.predict(test_scaled_df)\n",
        "print('accuracy_score : {}'.format(accuracy_score(y_test,y_pred_lgbm_bl)))"
      ],
      "metadata": {
        "id": "CGCgb35V5Thd"
      },
      "execution_count": null,
      "outputs": []
    },
    {
      "cell_type": "code",
      "source": [
        "df = pd.DataFrame({'pred':y_pred_lgbm_bl})\n",
        "df.to_csv('Border_LightGBM.csv',index=False)\n",
        "df.head()"
      ],
      "metadata": {
        "id": "XsG9bBn85TVw"
      },
      "execution_count": null,
      "outputs": []
    },
    {
      "cell_type": "markdown",
      "source": [
        "## Predict - Catboost"
      ],
      "metadata": {
        "id": "oIFYXrPj-Eo7"
      }
    },
    {
      "cell_type": "code",
      "source": [
        "from catboost import CatBoostClassifier\n",
        "catboost_model = CatBoostClassifier()\n",
        "catboost_model.fit(\n",
        "    x_border, y_border,\n",
        "    eval_set=(test_scaled_df, y_test),\n",
        "    early_stopping_rounds=10\n",
        ")\n",
        "y_pred_cb_bl = catboost_model.predict(test_scaled_df)\n",
        "print('accuracy_score : {}'.format(accuracy_score(y_test,y_pred_cb_bl)))"
      ],
      "metadata": {
        "id": "SBcOzI2f-D0_"
      },
      "execution_count": null,
      "outputs": []
    },
    {
      "cell_type": "code",
      "source": [
        "df = pd.DataFrame({'pred':y_pred_cb_bl})\n",
        "df.to_csv('Border_CatBoost.csv',index=False)\n",
        "df.head()"
      ],
      "metadata": {
        "id": "MPLVVQydB82T"
      },
      "execution_count": null,
      "outputs": []
    },
    {
      "cell_type": "markdown",
      "source": [
        "## Augmentation - ADASYN"
      ],
      "metadata": {
        "id": "zSRl3pOw27kB"
      }
    },
    {
      "cell_type": "code",
      "source": [
        "from imblearn.over_sampling import ADASYN\n",
        "adasyn = ADASYN(sampling_strategy=0.3, n_jobs=-1)\n",
        "x_ads, y_ads = adasyn.fit_resample(train_scaled_df, y_train)"
      ],
      "metadata": {
        "id": "QQlprdLc3DKS"
      },
      "execution_count": null,
      "outputs": []
    },
    {
      "cell_type": "markdown",
      "source": [
        "#Predict - RandomForest"
      ],
      "metadata": {
        "id": "slb-JljZ_Sqd"
      }
    },
    {
      "cell_type": "code",
      "source": [
        "rf = RandomForestClassifier()\n",
        "rf.fit(x_ads,y_ads)\n",
        "y_pred_rf_ads = rf.predict(test_scaled_df)\n",
        "print('accuracy_score : {}'.format(accuracy_score(y_test,y_pred_rf_ads)))"
      ],
      "metadata": {
        "id": "kVaABdjI_WZL"
      },
      "execution_count": null,
      "outputs": []
    },
    {
      "cell_type": "code",
      "source": [
        "df = pd.DataFrame({'pred':y_pred_rf_ads})\n",
        "df.to_csv('ADASYN_RandomForest.csv',index=False)\n",
        "df.head()"
      ],
      "metadata": {
        "id": "b10uZ19d_rRs"
      },
      "execution_count": null,
      "outputs": []
    },
    {
      "cell_type": "markdown",
      "source": [
        "#Predict - XGBoost"
      ],
      "metadata": {
        "id": "TOlXTmHf_W5h"
      }
    },
    {
      "cell_type": "code",
      "source": [
        "xgb = XGBClassifier(n_estimators=1000, learning_rate=0.2, verbose = 100)\n",
        "xgb.fit(x_ads,y_ads, eval_set=[(test_scaled_df, y_test)], early_stopping_rounds=100)\n",
        "y_pred_xgb_ads = xgb.predict(test_scaled_df)\n",
        "print('accuracy_score : {}'.format(accuracy_score(y_test,y_pred_xgb_ads)))"
      ],
      "metadata": {
        "id": "zAwLnA-X_ehh"
      },
      "execution_count": null,
      "outputs": []
    },
    {
      "cell_type": "code",
      "source": [
        "df = pd.DataFrame({'pred':y_pred_xgb_ads})\n",
        "df.to_csv('ADASYN_XGBoost.csv',index=False)\n",
        "df.head()"
      ],
      "metadata": {
        "id": "71TmWqq9_r-C"
      },
      "execution_count": null,
      "outputs": []
    },
    {
      "cell_type": "markdown",
      "source": [
        "##Predict - LightGBM"
      ],
      "metadata": {
        "id": "S1aRzh8KA2a6"
      }
    },
    {
      "cell_type": "code",
      "source": [
        "lgbm_model = LGBMClassifier(num_leaves=30, objective='binary')\n",
        "lgbm_model.fit(x_ads, y_ads)\n",
        "y_pred_lgbm_ads = lgbm_model.predict(test_scaled_df)\n",
        "print('accuracy_score : {}'.format(accuracy_score(y_test,y_pred_lgbm_ads)))"
      ],
      "metadata": {
        "id": "gJSA1okV-0ze"
      },
      "execution_count": null,
      "outputs": []
    },
    {
      "cell_type": "code",
      "source": [
        "df = pd.DataFrame({'pred':y_pred_lgbm_ads})\n",
        "df.to_csv('ADASYN_LightGBM.csv',index=False)\n",
        "df.head()"
      ],
      "metadata": {
        "id": "KnWdoir75VRT"
      },
      "execution_count": null,
      "outputs": []
    },
    {
      "cell_type": "markdown",
      "source": [
        "##Predict - CatBoost"
      ],
      "metadata": {
        "id": "z6eGNJ5_A8Y8"
      }
    },
    {
      "cell_type": "code",
      "source": [
        "catboost_model = CatBoostClassifier()\n",
        "catboost_model.fit(\n",
        "    x_ads, y_ads,\n",
        "    eval_set=(test_scaled, y_test),\n",
        "    early_stopping_rounds=10\n",
        ")\n",
        "y_pred_cb_ads = catboost_model.predict(test_scaled_df)\n",
        "print('accuracy_score : {}'.format(accuracy_score(y_test,y_pred_cb_ads)))"
      ],
      "metadata": {
        "id": "NrzOxhvo5VJl"
      },
      "execution_count": null,
      "outputs": []
    },
    {
      "cell_type": "code",
      "source": [
        "df = pd.DataFrame({'pred':y_pred_cb_ads})\n",
        "df.to_csv('ADASYN_CatBoost.csv',index=False)\n",
        "df.head()"
      ],
      "metadata": {
        "id": "4DtLBsbqCOcd"
      },
      "execution_count": null,
      "outputs": []
    },
    {
      "cell_type": "markdown",
      "source": [
        "# TensorFlow - SMOTE"
      ],
      "metadata": {
        "id": "FP5bvJNTCUIN"
      }
    },
    {
      "cell_type": "markdown",
      "source": [
        "1. 만약 내가 갖고있는 y 가 단일 벡터 [0, 1, 3, 4, 0, 0, 0, 1, 1] 이라면 --> `sparse_categorical_crossentropy`\n",
        "\n",
        "2. 만약 내가 갖고있는 y 가  원핫 인코딩 되어있다면 --> `categorical_crossentropy`"
      ],
      "metadata": {
        "id": "kHRSW7W0Qyof"
      }
    },
    {
      "cell_type": "code",
      "source": [
        "import tensorflow as tf\n",
        "\n",
        "model = tf.keras.Sequential([\n",
        "    tf.keras.layers.Dense(16, activation='relu'),\n",
        "    tf.keras.layers.Dense(16, activation='relu'),\n",
        "    tf.keras.layers.Dense(2, activation='sigmoid')\n",
        "])\n",
        "\n",
        "model.compile(optimizer='adam',\n",
        "              loss='sparse_categorical_crossentropy',\n",
        "              metrics=['accuracy'])\n",
        "\n",
        "model.fit(x_st, y_st, epochs=10, batch_size=32, validation_split=0.2)\n",
        "y_pred = model.predict(test_scaled_df)\n",
        "y_pred.shape"
      ],
      "metadata": {
        "id": "1QKCD_SjCTgV"
      },
      "execution_count": null,
      "outputs": []
    },
    {
      "cell_type": "code",
      "source": [
        "y_pred_agmx_st = tf.argmax(y_pred, axis=1)"
      ],
      "metadata": {
        "id": "vqnXOQ89SSWA"
      },
      "execution_count": null,
      "outputs": []
    },
    {
      "cell_type": "code",
      "source": [
        "print('accuracy_score : {}'.format(accuracy_score(y_test,y_pred_agmx_st)))"
      ],
      "metadata": {
        "id": "AIqdSpHLdlCq"
      },
      "execution_count": null,
      "outputs": []
    },
    {
      "cell_type": "code",
      "source": [
        "df = pd.DataFrame({'pred': y_pred_agmx_st})\n",
        "df.to_csv('SMOTE_Tensorflow.csv',index=False)\n",
        "df.head()"
      ],
      "metadata": {
        "id": "9COgsuCp9MxS"
      },
      "execution_count": null,
      "outputs": []
    },
    {
      "cell_type": "markdown",
      "source": [
        "#TensorFlow - BorderLineSMOTE"
      ],
      "metadata": {
        "id": "Q8_3cjiXF5Ma"
      }
    },
    {
      "cell_type": "code",
      "source": [
        "import tensorflow as tf\n",
        "\n",
        "model = tf.keras.Sequential([\n",
        "    tf.keras.layers.Dense(16, activation='relu'),\n",
        "    tf.keras.layers.Dense(16, activation='relu'),\n",
        "    tf.keras.layers.Dense(2, activation='sigmoid')\n",
        "])\n",
        "\n",
        "model.compile(optimizer='adam',\n",
        "              loss='sparse_categorical_crossentropy',\n",
        "              metrics=['accuracy'])\n",
        "\n",
        "model.fit(x_border, y_border, epochs=10, batch_size=32, validation_split=0.2)\n",
        "y_pred = model.predict(test_scaled_df)\n",
        "y_pred.shape"
      ],
      "metadata": {
        "id": "RaoZn-0CGJE8"
      },
      "execution_count": null,
      "outputs": []
    },
    {
      "cell_type": "code",
      "source": [
        "y_pred_agmx_bls = tf.argmax(y_pred, axis=1)"
      ],
      "metadata": {
        "id": "OW_NignVGI4v"
      },
      "execution_count": null,
      "outputs": []
    },
    {
      "cell_type": "code",
      "source": [
        "print('accuracy_score : {}'.format(accuracy_score(y_test, y_pred_agmx_bls)))"
      ],
      "metadata": {
        "id": "Ey_NTPDRGIrS"
      },
      "execution_count": null,
      "outputs": []
    },
    {
      "cell_type": "code",
      "source": [
        "df = pd.DataFrame({'pred': y_pred_agmx_bls})\n",
        "df.to_csv('BorderLineSMOTE_Tensorflow.csv',index=False)\n",
        "df.head()"
      ],
      "metadata": {
        "id": "QqClWps3GKtF"
      },
      "execution_count": null,
      "outputs": []
    },
    {
      "cell_type": "markdown",
      "source": [
        "#TensorFlow - ADASYN"
      ],
      "metadata": {
        "id": "cAegnXYtGE3s"
      }
    },
    {
      "cell_type": "code",
      "source": [
        "import tensorflow as tf\n",
        "\n",
        "model = tf.keras.Sequential([\n",
        "    tf.keras.layers.Dense(16, activation='relu'),\n",
        "    tf.keras.layers.Dense(16, activation='relu'),\n",
        "    tf.keras.layers.Dense(2, activation='sigmoid')\n",
        "])\n",
        "\n",
        "model.compile(optimizer='adam',\n",
        "              loss='sparse_categorical_crossentropy',\n",
        "              metrics=['accuracy'])\n",
        "\n",
        "model.fit(x_ads, y_ads, epochs=10, batch_size=32, validation_split=0.2)\n",
        "y_pred = model.predict(test_scaled_df)\n",
        "y_pred.shape"
      ],
      "metadata": {
        "id": "jBMFNm6JGL-g"
      },
      "execution_count": null,
      "outputs": []
    },
    {
      "cell_type": "code",
      "source": [
        "y_pred_agmx_ads = tf.argmax(y_pred, axis=1)"
      ],
      "metadata": {
        "id": "odf64LLbGL2E"
      },
      "execution_count": null,
      "outputs": []
    },
    {
      "cell_type": "code",
      "source": [
        "print('accuracy_score : {}'.format(accuracy_score(y_test,y_pred_agmx_ads)))"
      ],
      "metadata": {
        "id": "qYZI2QrWGLtF"
      },
      "execution_count": null,
      "outputs": []
    },
    {
      "cell_type": "code",
      "source": [
        "df = pd.DataFrame({'pred': y_pred_agmx_ads})\n",
        "df.to_csv('ADASYN_Tensorflow.csv',index=False)\n",
        "df.head()"
      ],
      "metadata": {
        "id": "-0dRo8qkGLlK"
      },
      "execution_count": null,
      "outputs": []
    },
    {
      "cell_type": "markdown",
      "source": [
        "# Pytorch - SMOTE"
      ],
      "metadata": {
        "id": "My-4-ckaB8Ev"
      }
    },
    {
      "cell_type": "code",
      "source": [
        "import torch\n",
        "import torch.nn as nn\n",
        "import torch.optim as optim\n",
        "from torch.utils.data import DataLoader, TensorDataset\n",
        "\n",
        "X_train_tensor = torch.tensor(x_st.values, dtype=torch.float32)\n",
        "y_train_tensor = torch.tensor(y_st.values, dtype=torch.long)\n",
        "X_test_tensor = torch.tensor(test_scaled_df.values, dtype=torch.float32)\n",
        "y_test_tensor = torch.tensor(y_test.values, dtype=torch.long)\n",
        "\n",
        "train_dataset = TensorDataset(X_train_tensor, y_train_tensor)\n",
        "test_dataset = TensorDataset(X_test_tensor, y_test_tensor)\n",
        "train_loader = DataLoader(train_dataset, batch_size=64, shuffle=True)\n",
        "test_loader = DataLoader(test_dataset, batch_size=64, shuffle=False)\n",
        "\n",
        "class CreditCardNN(nn.Module):\n",
        "    def __init__(self):\n",
        "        super(CreditCardNN, self).__init__()\n",
        "        self.layer1 = nn.Linear(X_train_tensor.shape[1], 128)\n",
        "        self.layer2 = nn.Linear(128, 64)\n",
        "        self.layer3 = nn.Linear(64, 2)\n",
        "\n",
        "    def forward(self, x):\n",
        "        x = torch.relu(self.layer1(x))\n",
        "        x = torch.relu(self.layer2(x))\n",
        "        x = self.layer3(x)\n",
        "        return x\n",
        "\n",
        "model = CreditCardNN()\n",
        "criterion = nn.CrossEntropyLoss()\n",
        "optimizer = optim.Adam(model.parameters(), lr=0.001)\n",
        "\n",
        "num_epochs = 10\n",
        "for epoch in range(num_epochs):\n",
        "    model.train()\n",
        "    for X_batch, y_batch in train_loader:\n",
        "        optimizer.zero_grad()\n",
        "        outputs = model(X_batch)\n",
        "        loss = criterion(outputs, y_batch)\n",
        "        loss.backward()\n",
        "        optimizer.step()\n",
        "    print(f\"Epoch {epoch+1}/{num_epochs}, Loss: {loss.item()}\")\n",
        "\n",
        "model.eval()\n",
        "y_pred_list = []\n",
        "with torch.no_grad():\n",
        "    for X_batch, _ in test_loader:\n",
        "        outputs = model(X_batch)\n",
        "        _, y_pred = torch.max(outputs, 1)\n",
        "        y_pred_list.append(y_pred)\n",
        "\n",
        "y_pred_tensor = torch.cat(y_pred_list)\n",
        "pth_y_pred_st = y_pred_tensor.detach().cpu().numpy()\n",
        "\n",
        "accuracy = accuracy_score(y_test, pth_y_pred_st)\n",
        "print('accuracy: {}'.format(accuracy))"
      ],
      "metadata": {
        "id": "R48uQFMW-6vo"
      },
      "execution_count": null,
      "outputs": []
    },
    {
      "cell_type": "code",
      "source": [
        "df = pd.DataFrame({'pred':pth_y_pred_st})\n",
        "df.to_csv('SMOTE_Pytorch.csv',index=False)\n",
        "df.head()"
      ],
      "metadata": {
        "id": "PZ-MdOzhB4Hs"
      },
      "execution_count": null,
      "outputs": []
    },
    {
      "cell_type": "markdown",
      "source": [
        "#Pytorch - BorderLineSMOTE"
      ],
      "metadata": {
        "id": "Ir24RdJkGRzF"
      }
    },
    {
      "cell_type": "code",
      "source": [
        "import torch\n",
        "import torch.nn as nn\n",
        "import torch.optim as optim\n",
        "from torch.utils.data import DataLoader, TensorDataset\n",
        "\n",
        "X_train_tensor = torch.tensor(x_border.values, dtype=torch.float32)\n",
        "y_train_tensor = torch.tensor(y_border.values, dtype=torch.long)\n",
        "X_test_tensor = torch.tensor(test_scaled_df.values, dtype=torch.float32)\n",
        "y_test_tensor = torch.tensor(y_test.values, dtype=torch.long)\n",
        "\n",
        "train_dataset = TensorDataset(X_train_tensor, y_train_tensor)\n",
        "test_dataset = TensorDataset(X_test_tensor, y_test_tensor)\n",
        "train_loader = DataLoader(train_dataset, batch_size=64, shuffle=True)\n",
        "test_loader = DataLoader(test_dataset, batch_size=64, shuffle=False)\n",
        "\n",
        "class CreditCardNN(nn.Module):\n",
        "    def __init__(self):\n",
        "        super(CreditCardNN, self).__init__()\n",
        "        self.layer1 = nn.Linear(X_train_tensor.shape[1], 128)\n",
        "        self.layer2 = nn.Linear(128, 64)\n",
        "        self.layer3 = nn.Linear(64, 2)\n",
        "\n",
        "    def forward(self, x):\n",
        "        x = torch.relu(self.layer1(x))\n",
        "        x = torch.relu(self.layer2(x))\n",
        "        x = self.layer3(x)\n",
        "        return x\n",
        "\n",
        "model = CreditCardNN()\n",
        "criterion = nn.CrossEntropyLoss()\n",
        "optimizer = optim.Adam(model.parameters(), lr=0.001)\n",
        "\n",
        "num_epochs = 10\n",
        "for epoch in range(num_epochs):\n",
        "    model.train()\n",
        "    for X_batch, y_batch in train_loader:\n",
        "        optimizer.zero_grad()\n",
        "        outputs = model(X_batch)\n",
        "        loss = criterion(outputs, y_batch)\n",
        "        loss.backward()\n",
        "        optimizer.step()\n",
        "    print(f\"Epoch {epoch+1}/{num_epochs}, Loss: {loss.item()}\")\n",
        "\n",
        "model.eval()\n",
        "y_pred_list = []\n",
        "with torch.no_grad():\n",
        "    for X_batch, _ in test_loader:\n",
        "        outputs = model(X_batch)\n",
        "        _, y_pred = torch.max(outputs, 1)\n",
        "        y_pred_list.append(y_pred)\n",
        "\n",
        "y_pred_tensor = torch.cat(y_pred_list)\n",
        "pth_y_pred_bls = y_pred_tensor.detach().cpu().numpy()\n",
        "\n",
        "accuracy = accuracy_score(y_test, pth_y_pred_bls)\n",
        "print('accuracy: {}'.format(accuracy))"
      ],
      "metadata": {
        "id": "DpuGZUovGRSx"
      },
      "execution_count": null,
      "outputs": []
    },
    {
      "cell_type": "code",
      "source": [
        "df = pd.DataFrame({'pred':pth_y_pred_bls})\n",
        "df.to_csv('BorderLineSMOTE_Pytorch.csv',index=False)\n",
        "df.head()"
      ],
      "metadata": {
        "id": "bvGeeBKkGNgA"
      },
      "execution_count": null,
      "outputs": []
    },
    {
      "cell_type": "markdown",
      "source": [
        "#Pytorch - ADASYN"
      ],
      "metadata": {
        "id": "-aRkxVsfGV54"
      }
    },
    {
      "cell_type": "code",
      "source": [
        "import torch\n",
        "import torch.nn as nn\n",
        "import torch.optim as optim\n",
        "from torch.utils.data import DataLoader, TensorDataset\n",
        "\n",
        "X_train_tensor = torch.tensor(x_ads.values, dtype=torch.float32)\n",
        "y_train_tensor = torch.tensor(y_ads.values, dtype=torch.long)\n",
        "X_test_tensor = torch.tensor(test_scaled_df.values, dtype=torch.float32)\n",
        "y_test_tensor = torch.tensor(y_test.values, dtype=torch.long)\n",
        "\n",
        "train_dataset = TensorDataset(X_train_tensor, y_train_tensor)\n",
        "test_dataset = TensorDataset(X_test_tensor, y_test_tensor)\n",
        "train_loader = DataLoader(train_dataset, batch_size=64, shuffle=True)\n",
        "test_loader = DataLoader(test_dataset, batch_size=64, shuffle=False)\n",
        "\n",
        "class CreditCardNN(nn.Module):\n",
        "    def __init__(self):\n",
        "        super(CreditCardNN, self).__init__()\n",
        "        self.layer1 = nn.Linear(X_train_tensor.shape[1], 128)\n",
        "        self.layer2 = nn.Linear(128, 64)\n",
        "        self.layer3 = nn.Linear(64, 2)\n",
        "\n",
        "    def forward(self, x):\n",
        "        x = torch.relu(self.layer1(x))\n",
        "        x = torch.relu(self.layer2(x))\n",
        "        x = self.layer3(x)\n",
        "        return x\n",
        "\n",
        "model = CreditCardNN()\n",
        "criterion = nn.CrossEntropyLoss()\n",
        "optimizer = optim.Adam(model.parameters(), lr=0.001)\n",
        "\n",
        "num_epochs = 10\n",
        "for epoch in range(num_epochs):\n",
        "    model.train()\n",
        "    for X_batch, y_batch in train_loader:\n",
        "        optimizer.zero_grad()\n",
        "        outputs = model(X_batch)\n",
        "        loss = criterion(outputs, y_batch)\n",
        "        loss.backward()\n",
        "        optimizer.step()\n",
        "    print(f\"Epoch {epoch+1}/{num_epochs}, Loss: {loss.item()}\")\n",
        "\n",
        "model.eval()\n",
        "y_pred_list = []\n",
        "with torch.no_grad():\n",
        "    for X_batch, _ in test_loader:\n",
        "        outputs = model(X_batch)\n",
        "        _, y_pred = torch.max(outputs, 1)\n",
        "        y_pred_list.append(y_pred)\n",
        "\n",
        "y_pred_tensor = torch.cat(y_pred_list)\n",
        "pth_y_pred_ads = y_pred_tensor.detach().cpu().numpy()\n",
        "\n",
        "accuracy = accuracy_score(y_test, pth_y_pred_ads)\n",
        "print('accuracy: {}'.format(accuracy))"
      ],
      "metadata": {
        "id": "PS_y0p8CGakQ"
      },
      "execution_count": null,
      "outputs": []
    },
    {
      "cell_type": "code",
      "source": [
        "df = pd.DataFrame({'pred':pth_y_pred_ads})\n",
        "df.to_csv('ADASYN_Pytorch.csv',index=False)\n",
        "df.head()"
      ],
      "metadata": {
        "id": "hC4RA4qNGabJ"
      },
      "execution_count": null,
      "outputs": []
    },
    {
      "cell_type": "markdown",
      "source": [
        "## Compare"
      ],
      "metadata": {
        "id": "bjOjNZf_MIEC"
      }
    },
    {
      "cell_type": "code",
      "source": [
        "df = pd.DataFrame({\n",
        "    'Model': [\n",
        "        'RF_SMOTE', 'XGB_SMOTE', 'LGBM_SMOTE', 'CB_SMOTE', 'TensorFlow_SMOTE', 'Pytorch_SMOTE',\n",
        "        'RF_BLS', 'XGB_BLS', 'LGBM_BLS', 'CB_BLS',\n",
        "        'TensorFlow_BLS', 'Pytorch_BLS', 'RF_ADASYN', 'XGB_ADASYN', 'LGBM_ADASYN',\n",
        "        'CB_ADASYN', 'TensorFlow_ADASYN', 'Pytorch_ADASYN'\n",
        "    ],\n",
        "    'Score': [\n",
        "        accuracy_score(y_test, y_pred_rf_st), accuracy_score(y_test, y_pred_xgb_st), accuracy_score(y_test, y_pred_lgbm_st),\n",
        "        accuracy_score(y_test, y_pred_cb_st), accuracy_score(y_test, y_pred_agmx_st), accuracy_score(y_test, pth_y_pred_st),\n",
        "        accuracy_score(y_test, y_pred_rf_bl), accuracy_score(y_test, y_pred_xgb_bl), accuracy_score(y_test, y_pred_lgbm_bl),\n",
        "        accuracy_score(y_test, y_pred_cb_bl), accuracy_score(y_test, y_pred_agmx_bls), accuracy_score(y_test, pth_y_pred_bls),\n",
        "        accuracy_score(y_test, y_pred_rf_ads), accuracy_score(y_test, y_pred_xgb_ads), accuracy_score(y_test, y_pred_lgbm_ads),\n",
        "        accuracy_score(y_test, y_pred_cb_ads), accuracy_score(y_test, y_pred_agmx_ads), accuracy_score(y_test, pth_y_pred_ads)\n",
        "    ]\n",
        "})\n",
        "\n",
        "sorted_df = df.sort_values(by='Score', ascending=False)\n",
        "sorted_df"
      ],
      "metadata": {
        "id": "HHCf-Z54K9z0"
      },
      "execution_count": null,
      "outputs": []
    },
    {
      "cell_type": "markdown",
      "source": [
        "---"
      ],
      "metadata": {
        "id": "FoyO9LC9TUgC"
      }
    }
  ]
}